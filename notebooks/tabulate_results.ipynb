{
 "cells": [
  {
   "cell_type": "markdown",
   "source": [
    "# Tabulate results\n"
   ],
   "metadata": {
    "collapsed": false
   }
  },
  {
   "cell_type": "code",
   "execution_count": 1,
   "outputs": [],
   "source": [
    "import os\n",
    "import sys\n",
    "from typing import Tuple\n",
    "import pandas as pd\n",
    "import numpy as np\n",
    "from tabulate import tabulate\n",
    "from tqdm import tqdm\n",
    "\n",
    "sys.path.append('../src')\n",
    "from read_log_file import read_log_file"
   ],
   "metadata": {
    "collapsed": false,
    "pycharm": {
     "name": "#%%\n"
    }
   }
  },
  {
   "cell_type": "code",
   "execution_count": 2,
   "outputs": [],
   "source": [
    "LOG_HOME_DIR = os.path.join('../logs/')\n",
    "assert os.path.isdir(LOG_HOME_DIR)"
   ],
   "metadata": {
    "collapsed": false,
    "pycharm": {
     "name": "#%%\n"
    }
   }
  },
  {
   "cell_type": "code",
   "execution_count": 3,
   "outputs": [],
   "source": [
    "MODEL_NAMES = ['bert-base-multilingual-cased', 'bert-base-german-cased']\n",
    "SETUPS = ['monotask', 'multitask']"
   ],
   "metadata": {
    "collapsed": false,
    "pycharm": {
     "name": "#%%\n"
    }
   }
  },
  {
   "cell_type": "code",
   "execution_count": 4,
   "outputs": [],
   "source": [
    "def get_best_score_from_dict(di: dict) -> dict:\n",
    "    \"\"\"Get max value from a dict\"\"\"\n",
    "    keys_with_max_val = []\n",
    "    # find max value\n",
    "    max_val = -float('inf')\n",
    "    for k, v in di.items():\n",
    "        if v > max_val:\n",
    "            max_val = v\n",
    "    # find all keys with max value\n",
    "    for k, v in di.items():\n",
    "        if v == max_val:\n",
    "            keys_with_max_val.append(k)\n",
    "    return {\n",
    "        'k': keys_with_max_val,\n",
    "        'v': max_val,\n",
    "    }"
   ],
   "metadata": {
    "collapsed": false,
    "pycharm": {
     "name": "#%%\n"
    }
   }
  },
  {
   "cell_type": "code",
   "execution_count": 5,
   "outputs": [],
   "source": [
    "def create_results_df(log_dir: str) -> pd.DataFrame:\n",
    "    results_dict = {'log_filename': [], 'f1': [], 'acc': [], 'precision': [], 'recall': []}\n",
    "    log_filenames = sorted(os.listdir(log_dir))\n",
    "    for fname in log_filenames:\n",
    "        best_val_metrics = read_log_file(\n",
    "            log_file_path=os.path.join(log_dir, fname),\n",
    "            plot=False,\n",
    "            verbose=False,\n",
    "        )['best_val_metrics']\n",
    "        results_dict['log_filename'].append(fname)\n",
    "        results_dict['f1'].append(best_val_metrics['f1'])\n",
    "        results_dict['acc'].append(best_val_metrics['acc'])\n",
    "        results_dict['precision'].append(best_val_metrics['precision'])\n",
    "        results_dict['recall'].append(best_val_metrics['recall'])\n",
    "    return pd.DataFrame(results_dict)"
   ],
   "metadata": {
    "collapsed": false,
    "pycharm": {
     "name": "#%%\n"
    }
   }
  },
  {
   "cell_type": "code",
   "execution_count": 6,
   "outputs": [],
   "source": [
    "def highlight_best_score(df: pd.DataFrame) -> pd.DataFrame:\n",
    "    \"\"\"Highlight best score in each row\"\"\"\n",
    "    return df.style.apply(\n",
    "        lambda x: ['background: red' if isinstance(v, float) and v == max(x.iloc[1:]) else '' for v in x], axis=1)"
   ],
   "metadata": {
    "collapsed": false,
    "pycharm": {
     "name": "#%%\n"
    }
   }
  },
  {
   "cell_type": "code",
   "execution_count": 7,
   "outputs": [],
   "source": [
    "def tabulate_markdown(df: pd.DataFrame) -> str:\n",
    "    \"\"\"Tabulate in markdown format and bold best scores in each row\"\"\"\n",
    "    df = df.round(4)\n",
    "    for model_name in MODEL_NAMES:\n",
    "        df[model_name] = df[model_name].astype(str)\n",
    "    for idx in range(len(df)):\n",
    "        max_val = max(float(df.iloc[idx][model_name]) for model_name in MODEL_NAMES)\n",
    "        for model_name in MODEL_NAMES:\n",
    "            cell_val = float(df.iloc[idx][model_name])\n",
    "            if cell_val == max_val:\n",
    "                df.at[idx, model_name] = f'**{cell_val}**'\n",
    "            else:\n",
    "                df.at[idx, model_name] = f'{cell_val}'\n",
    "\n",
    "    return tabulate(df, headers='keys', showindex=False, tablefmt='github')\n"
   ],
   "metadata": {
    "collapsed": false,
    "pycharm": {
     "name": "#%%\n"
    }
   }
  },
  {
   "cell_type": "markdown",
   "source": [
    "## Monotask models"
   ],
   "metadata": {
    "collapsed": false,
    "pycharm": {
     "name": "#%% md\n"
    }
   }
  },
  {
   "cell_type": "markdown",
   "source": [
    "### (a) Multilingual BERT"
   ],
   "metadata": {
    "collapsed": false
   }
  },
  {
   "cell_type": "code",
   "execution_count": 8,
   "outputs": [
    {
     "data": {
      "text/plain": "<pandas.io.formats.style.Styler at 0x1dd237dbdd8>",
      "text/html": "<style  type=\"text/css\" >\n#T_82598106_d94b_11eb_9d3a_a0cec835c16drow8_col1,#T_82598106_d94b_11eb_9d3a_a0cec835c16drow8_col2,#T_82598106_d94b_11eb_9d3a_a0cec835c16drow8_col3,#T_82598106_d94b_11eb_9d3a_a0cec835c16drow8_col4{\n            background-color:  blue;\n        }</style><table id=\"T_82598106_d94b_11eb_9d3a_a0cec835c16d\" ><thead>    <tr>        <th class=\"blank level0\" ></th>        <th class=\"col_heading level0 col0\" >log_filename</th>        <th class=\"col_heading level0 col1\" >f1</th>        <th class=\"col_heading level0 col2\" >acc</th>        <th class=\"col_heading level0 col3\" >precision</th>        <th class=\"col_heading level0 col4\" >recall</th>    </tr></thead><tbody>\n                <tr>\n                        <th id=\"T_82598106_d94b_11eb_9d3a_a0cec835c16dlevel0_row0\" class=\"row_heading level0 row0\" >0</th>\n                        <td id=\"T_82598106_d94b_11eb_9d3a_a0cec835c16drow0_col0\" class=\"data row0 col0\" >trg_fc128_lr0.0005_frozen.txt</td>\n                        <td id=\"T_82598106_d94b_11eb_9d3a_a0cec835c16drow0_col1\" class=\"data row0 col1\" >0.750252</td>\n                        <td id=\"T_82598106_d94b_11eb_9d3a_a0cec835c16drow0_col2\" class=\"data row0 col2\" >0.773498</td>\n                        <td id=\"T_82598106_d94b_11eb_9d3a_a0cec835c16drow0_col3\" class=\"data row0 col3\" >0.748096</td>\n                        <td id=\"T_82598106_d94b_11eb_9d3a_a0cec835c16drow0_col4\" class=\"data row0 col4\" >0.752770</td>\n            </tr>\n            <tr>\n                        <th id=\"T_82598106_d94b_11eb_9d3a_a0cec835c16dlevel0_row1\" class=\"row_heading level0 row1\" >1</th>\n                        <td id=\"T_82598106_d94b_11eb_9d3a_a0cec835c16drow1_col0\" class=\"data row1 col0\" >trg_fc128_lr0.0005_trainable.txt</td>\n                        <td id=\"T_82598106_d94b_11eb_9d3a_a0cec835c16drow1_col1\" class=\"data row1 col1\" >0.254023</td>\n                        <td id=\"T_82598106_d94b_11eb_9d3a_a0cec835c16drow1_col2\" class=\"data row1 col2\" >0.340524</td>\n                        <td id=\"T_82598106_d94b_11eb_9d3a_a0cec835c16drow1_col3\" class=\"data row1 col3\" >0.170262</td>\n                        <td id=\"T_82598106_d94b_11eb_9d3a_a0cec835c16drow1_col4\" class=\"data row1 col4\" >0.500000</td>\n            </tr>\n            <tr>\n                        <th id=\"T_82598106_d94b_11eb_9d3a_a0cec835c16dlevel0_row2\" class=\"row_heading level0 row2\" >2</th>\n                        <td id=\"T_82598106_d94b_11eb_9d3a_a0cec835c16drow2_col0\" class=\"data row2 col0\" >trg_fc128_lr0.005_frozen.txt</td>\n                        <td id=\"T_82598106_d94b_11eb_9d3a_a0cec835c16drow2_col1\" class=\"data row2 col1\" >0.743129</td>\n                        <td id=\"T_82598106_d94b_11eb_9d3a_a0cec835c16drow2_col2\" class=\"data row2 col2\" >0.761171</td>\n                        <td id=\"T_82598106_d94b_11eb_9d3a_a0cec835c16drow2_col3\" class=\"data row2 col3\" >0.738117</td>\n                        <td id=\"T_82598106_d94b_11eb_9d3a_a0cec835c16drow2_col4\" class=\"data row2 col4\" >0.753272</td>\n            </tr>\n            <tr>\n                        <th id=\"T_82598106_d94b_11eb_9d3a_a0cec835c16dlevel0_row3\" class=\"row_heading level0 row3\" >3</th>\n                        <td id=\"T_82598106_d94b_11eb_9d3a_a0cec835c16drow3_col0\" class=\"data row3 col0\" >trg_fc128_lr0.005_trainable.txt</td>\n                        <td id=\"T_82598106_d94b_11eb_9d3a_a0cec835c16drow3_col1\" class=\"data row3 col1\" >0.254023</td>\n                        <td id=\"T_82598106_d94b_11eb_9d3a_a0cec835c16drow3_col2\" class=\"data row3 col2\" >0.340524</td>\n                        <td id=\"T_82598106_d94b_11eb_9d3a_a0cec835c16drow3_col3\" class=\"data row3 col3\" >0.170262</td>\n                        <td id=\"T_82598106_d94b_11eb_9d3a_a0cec835c16drow3_col4\" class=\"data row3 col4\" >0.500000</td>\n            </tr>\n            <tr>\n                        <th id=\"T_82598106_d94b_11eb_9d3a_a0cec835c16dlevel0_row4\" class=\"row_heading level0 row4\" >4</th>\n                        <td id=\"T_82598106_d94b_11eb_9d3a_a0cec835c16drow4_col0\" class=\"data row4 col0\" >trg_fc128_lr0.05_frozen.txt</td>\n                        <td id=\"T_82598106_d94b_11eb_9d3a_a0cec835c16drow4_col1\" class=\"data row4 col1\" >0.313335</td>\n                        <td id=\"T_82598106_d94b_11eb_9d3a_a0cec835c16drow4_col2\" class=\"data row4 col2\" >0.375963</td>\n                        <td id=\"T_82598106_d94b_11eb_9d3a_a0cec835c16drow4_col3\" class=\"data row4 col3\" >0.656282</td>\n                        <td id=\"T_82598106_d94b_11eb_9d3a_a0cec835c16drow4_col4\" class=\"data row4 col4\" >0.525775</td>\n            </tr>\n            <tr>\n                        <th id=\"T_82598106_d94b_11eb_9d3a_a0cec835c16dlevel0_row5\" class=\"row_heading level0 row5\" >5</th>\n                        <td id=\"T_82598106_d94b_11eb_9d3a_a0cec835c16drow5_col0\" class=\"data row5 col0\" >trg_fc128_lr0.05_trainable.txt</td>\n                        <td id=\"T_82598106_d94b_11eb_9d3a_a0cec835c16drow5_col1\" class=\"data row5 col1\" >0.254023</td>\n                        <td id=\"T_82598106_d94b_11eb_9d3a_a0cec835c16drow5_col2\" class=\"data row5 col2\" >0.340524</td>\n                        <td id=\"T_82598106_d94b_11eb_9d3a_a0cec835c16drow5_col3\" class=\"data row5 col3\" >0.170262</td>\n                        <td id=\"T_82598106_d94b_11eb_9d3a_a0cec835c16drow5_col4\" class=\"data row5 col4\" >0.500000</td>\n            </tr>\n            <tr>\n                        <th id=\"T_82598106_d94b_11eb_9d3a_a0cec835c16dlevel0_row6\" class=\"row_heading level0 row6\" >6</th>\n                        <td id=\"T_82598106_d94b_11eb_9d3a_a0cec835c16drow6_col0\" class=\"data row6 col0\" >trg_fc256_lr0.0005_frozen.txt</td>\n                        <td id=\"T_82598106_d94b_11eb_9d3a_a0cec835c16drow6_col1\" class=\"data row6 col1\" >0.751464</td>\n                        <td id=\"T_82598106_d94b_11eb_9d3a_a0cec835c16drow6_col2\" class=\"data row6 col2\" >0.767334</td>\n                        <td id=\"T_82598106_d94b_11eb_9d3a_a0cec835c16drow6_col3\" class=\"data row6 col3\" >0.746158</td>\n                        <td id=\"T_82598106_d94b_11eb_9d3a_a0cec835c16drow6_col4\" class=\"data row6 col4\" >0.764510</td>\n            </tr>\n            <tr>\n                        <th id=\"T_82598106_d94b_11eb_9d3a_a0cec835c16dlevel0_row7\" class=\"row_heading level0 row7\" >7</th>\n                        <td id=\"T_82598106_d94b_11eb_9d3a_a0cec835c16drow7_col0\" class=\"data row7 col0\" >trg_fc256_lr0.0005_trainable.txt</td>\n                        <td id=\"T_82598106_d94b_11eb_9d3a_a0cec835c16drow7_col1\" class=\"data row7 col1\" >0.254023</td>\n                        <td id=\"T_82598106_d94b_11eb_9d3a_a0cec835c16drow7_col2\" class=\"data row7 col2\" >0.340524</td>\n                        <td id=\"T_82598106_d94b_11eb_9d3a_a0cec835c16drow7_col3\" class=\"data row7 col3\" >0.170262</td>\n                        <td id=\"T_82598106_d94b_11eb_9d3a_a0cec835c16drow7_col4\" class=\"data row7 col4\" >0.500000</td>\n            </tr>\n            <tr>\n                        <th id=\"T_82598106_d94b_11eb_9d3a_a0cec835c16dlevel0_row8\" class=\"row_heading level0 row8\" >8</th>\n                        <td id=\"T_82598106_d94b_11eb_9d3a_a0cec835c16drow8_col0\" class=\"data row8 col0\" >trg_fc256_lr0.005_frozen.txt</td>\n                        <td id=\"T_82598106_d94b_11eb_9d3a_a0cec835c16drow8_col1\" class=\"data row8 col1\" >0.763356</td>\n                        <td id=\"T_82598106_d94b_11eb_9d3a_a0cec835c16drow8_col2\" class=\"data row8 col2\" >0.784284</td>\n                        <td id=\"T_82598106_d94b_11eb_9d3a_a0cec835c16drow8_col3\" class=\"data row8 col3\" >0.760083</td>\n                        <td id=\"T_82598106_d94b_11eb_9d3a_a0cec835c16drow8_col4\" class=\"data row8 col4\" >0.767513</td>\n            </tr>\n            <tr>\n                        <th id=\"T_82598106_d94b_11eb_9d3a_a0cec835c16dlevel0_row9\" class=\"row_heading level0 row9\" >9</th>\n                        <td id=\"T_82598106_d94b_11eb_9d3a_a0cec835c16drow9_col0\" class=\"data row9 col0\" >trg_fc256_lr0.005_trainable.txt</td>\n                        <td id=\"T_82598106_d94b_11eb_9d3a_a0cec835c16drow9_col1\" class=\"data row9 col1\" >0.254023</td>\n                        <td id=\"T_82598106_d94b_11eb_9d3a_a0cec835c16drow9_col2\" class=\"data row9 col2\" >0.340524</td>\n                        <td id=\"T_82598106_d94b_11eb_9d3a_a0cec835c16drow9_col3\" class=\"data row9 col3\" >0.170262</td>\n                        <td id=\"T_82598106_d94b_11eb_9d3a_a0cec835c16drow9_col4\" class=\"data row9 col4\" >0.500000</td>\n            </tr>\n            <tr>\n                        <th id=\"T_82598106_d94b_11eb_9d3a_a0cec835c16dlevel0_row10\" class=\"row_heading level0 row10\" >10</th>\n                        <td id=\"T_82598106_d94b_11eb_9d3a_a0cec835c16drow10_col0\" class=\"data row10 col0\" >trg_fc256_lr0.05_frozen.txt</td>\n                        <td id=\"T_82598106_d94b_11eb_9d3a_a0cec835c16drow10_col1\" class=\"data row10 col1\" >0.485722</td>\n                        <td id=\"T_82598106_d94b_11eb_9d3a_a0cec835c16drow10_col2\" class=\"data row10 col2\" >0.497689</td>\n                        <td id=\"T_82598106_d94b_11eb_9d3a_a0cec835c16drow10_col3\" class=\"data row10 col3\" >0.659206</td>\n                        <td id=\"T_82598106_d94b_11eb_9d3a_a0cec835c16drow10_col4\" class=\"data row10 col4\" >0.608217</td>\n            </tr>\n            <tr>\n                        <th id=\"T_82598106_d94b_11eb_9d3a_a0cec835c16dlevel0_row11\" class=\"row_heading level0 row11\" >11</th>\n                        <td id=\"T_82598106_d94b_11eb_9d3a_a0cec835c16drow11_col0\" class=\"data row11 col0\" >trg_fc256_lr0.05_trainable.txt</td>\n                        <td id=\"T_82598106_d94b_11eb_9d3a_a0cec835c16drow11_col1\" class=\"data row11 col1\" >0.254023</td>\n                        <td id=\"T_82598106_d94b_11eb_9d3a_a0cec835c16drow11_col2\" class=\"data row11 col2\" >0.340524</td>\n                        <td id=\"T_82598106_d94b_11eb_9d3a_a0cec835c16drow11_col3\" class=\"data row11 col3\" >0.170262</td>\n                        <td id=\"T_82598106_d94b_11eb_9d3a_a0cec835c16drow11_col4\" class=\"data row11 col4\" >0.500000</td>\n            </tr>\n            <tr>\n                        <th id=\"T_82598106_d94b_11eb_9d3a_a0cec835c16dlevel0_row12\" class=\"row_heading level0 row12\" >12</th>\n                        <td id=\"T_82598106_d94b_11eb_9d3a_a0cec835c16drow12_col0\" class=\"data row12 col0\" >trg_fc512_lr0.0005_frozen.txt</td>\n                        <td id=\"T_82598106_d94b_11eb_9d3a_a0cec835c16drow12_col1\" class=\"data row12 col1\" >0.757872</td>\n                        <td id=\"T_82598106_d94b_11eb_9d3a_a0cec835c16drow12_col2\" class=\"data row12 col2\" >0.782743</td>\n                        <td id=\"T_82598106_d94b_11eb_9d3a_a0cec835c16drow12_col3\" class=\"data row12 col3\" >0.758159</td>\n                        <td id=\"T_82598106_d94b_11eb_9d3a_a0cec835c16drow12_col4\" class=\"data row12 col4\" >0.757591</td>\n            </tr>\n            <tr>\n                        <th id=\"T_82598106_d94b_11eb_9d3a_a0cec835c16dlevel0_row13\" class=\"row_heading level0 row13\" >13</th>\n                        <td id=\"T_82598106_d94b_11eb_9d3a_a0cec835c16drow13_col0\" class=\"data row13 col0\" >trg_fc512_lr0.0005_trainable.txt</td>\n                        <td id=\"T_82598106_d94b_11eb_9d3a_a0cec835c16drow13_col1\" class=\"data row13 col1\" >0.254023</td>\n                        <td id=\"T_82598106_d94b_11eb_9d3a_a0cec835c16drow13_col2\" class=\"data row13 col2\" >0.340524</td>\n                        <td id=\"T_82598106_d94b_11eb_9d3a_a0cec835c16drow13_col3\" class=\"data row13 col3\" >0.170262</td>\n                        <td id=\"T_82598106_d94b_11eb_9d3a_a0cec835c16drow13_col4\" class=\"data row13 col4\" >0.500000</td>\n            </tr>\n            <tr>\n                        <th id=\"T_82598106_d94b_11eb_9d3a_a0cec835c16dlevel0_row14\" class=\"row_heading level0 row14\" >14</th>\n                        <td id=\"T_82598106_d94b_11eb_9d3a_a0cec835c16drow14_col0\" class=\"data row14 col0\" >trg_fc512_lr0.005_frozen.txt</td>\n                        <td id=\"T_82598106_d94b_11eb_9d3a_a0cec835c16drow14_col1\" class=\"data row14 col1\" >0.746973</td>\n                        <td id=\"T_82598106_d94b_11eb_9d3a_a0cec835c16drow14_col2\" class=\"data row14 col2\" >0.776579</td>\n                        <td id=\"T_82598106_d94b_11eb_9d3a_a0cec835c16drow14_col3\" class=\"data row14 col3\" >0.751940</td>\n                        <td id=\"T_82598106_d94b_11eb_9d3a_a0cec835c16drow14_col4\" class=\"data row14 col4\" >0.743070</td>\n            </tr>\n            <tr>\n                        <th id=\"T_82598106_d94b_11eb_9d3a_a0cec835c16dlevel0_row15\" class=\"row_heading level0 row15\" >15</th>\n                        <td id=\"T_82598106_d94b_11eb_9d3a_a0cec835c16drow15_col0\" class=\"data row15 col0\" >trg_fc512_lr0.005_trainable.txt</td>\n                        <td id=\"T_82598106_d94b_11eb_9d3a_a0cec835c16drow15_col1\" class=\"data row15 col1\" >0.254023</td>\n                        <td id=\"T_82598106_d94b_11eb_9d3a_a0cec835c16drow15_col2\" class=\"data row15 col2\" >0.340524</td>\n                        <td id=\"T_82598106_d94b_11eb_9d3a_a0cec835c16drow15_col3\" class=\"data row15 col3\" >0.170262</td>\n                        <td id=\"T_82598106_d94b_11eb_9d3a_a0cec835c16drow15_col4\" class=\"data row15 col4\" >0.500000</td>\n            </tr>\n            <tr>\n                        <th id=\"T_82598106_d94b_11eb_9d3a_a0cec835c16dlevel0_row16\" class=\"row_heading level0 row16\" >16</th>\n                        <td id=\"T_82598106_d94b_11eb_9d3a_a0cec835c16drow16_col0\" class=\"data row16 col0\" >trg_fc512_lr0.05_frozen.txt</td>\n                        <td id=\"T_82598106_d94b_11eb_9d3a_a0cec835c16drow16_col1\" class=\"data row16 col1\" >0.539575</td>\n                        <td id=\"T_82598106_d94b_11eb_9d3a_a0cec835c16drow16_col2\" class=\"data row16 col2\" >0.543914</td>\n                        <td id=\"T_82598106_d94b_11eb_9d3a_a0cec835c16drow16_col3\" class=\"data row16 col3\" >0.670673</td>\n                        <td id=\"T_82598106_d94b_11eb_9d3a_a0cec835c16drow16_col4\" class=\"data row16 col4\" >0.639981</td>\n            </tr>\n            <tr>\n                        <th id=\"T_82598106_d94b_11eb_9d3a_a0cec835c16dlevel0_row17\" class=\"row_heading level0 row17\" >17</th>\n                        <td id=\"T_82598106_d94b_11eb_9d3a_a0cec835c16drow17_col0\" class=\"data row17 col0\" >trg_fc512_lr0.05_trainable.txt</td>\n                        <td id=\"T_82598106_d94b_11eb_9d3a_a0cec835c16drow17_col1\" class=\"data row17 col1\" >0.254023</td>\n                        <td id=\"T_82598106_d94b_11eb_9d3a_a0cec835c16drow17_col2\" class=\"data row17 col2\" >0.340524</td>\n                        <td id=\"T_82598106_d94b_11eb_9d3a_a0cec835c16drow17_col3\" class=\"data row17 col3\" >0.170262</td>\n                        <td id=\"T_82598106_d94b_11eb_9d3a_a0cec835c16drow17_col4\" class=\"data row17 col4\" >0.500000</td>\n            </tr>\n    </tbody></table>"
     },
     "execution_count": 8,
     "metadata": {},
     "output_type": "execute_result"
    }
   ],
   "source": [
    "create_results_df(os.path.join(LOG_HOME_DIR, 'monotask', 'bert-base-multilingual-cased')).style.highlight_max(\n",
    "    color='blue', axis=0)"
   ],
   "metadata": {
    "collapsed": false,
    "pycharm": {
     "name": "#%%\n"
    }
   }
  },
  {
   "cell_type": "markdown",
   "source": [
    "### (b) German BERT"
   ],
   "metadata": {
    "collapsed": false
   }
  },
  {
   "cell_type": "code",
   "execution_count": 9,
   "outputs": [
    {
     "data": {
      "text/plain": "<pandas.io.formats.style.Styler at 0x1dd237dbf28>",
      "text/html": "<style  type=\"text/css\" >\n#T_82612012_d94b_11eb_bfa7_a0cec835c16drow0_col1,#T_82612012_d94b_11eb_bfa7_a0cec835c16drow0_col2,#T_82612012_d94b_11eb_bfa7_a0cec835c16drow0_col3,#T_82612012_d94b_11eb_bfa7_a0cec835c16drow12_col4{\n            background-color:  blue;\n        }</style><table id=\"T_82612012_d94b_11eb_bfa7_a0cec835c16d\" ><thead>    <tr>        <th class=\"blank level0\" ></th>        <th class=\"col_heading level0 col0\" >log_filename</th>        <th class=\"col_heading level0 col1\" >f1</th>        <th class=\"col_heading level0 col2\" >acc</th>        <th class=\"col_heading level0 col3\" >precision</th>        <th class=\"col_heading level0 col4\" >recall</th>    </tr></thead><tbody>\n                <tr>\n                        <th id=\"T_82612012_d94b_11eb_bfa7_a0cec835c16dlevel0_row0\" class=\"row_heading level0 row0\" >0</th>\n                        <td id=\"T_82612012_d94b_11eb_bfa7_a0cec835c16drow0_col0\" class=\"data row0 col0\" >trg_fc128_lr0.0005_frozen.txt</td>\n                        <td id=\"T_82612012_d94b_11eb_bfa7_a0cec835c16drow0_col1\" class=\"data row0 col1\" >0.780714</td>\n                        <td id=\"T_82612012_d94b_11eb_bfa7_a0cec835c16drow0_col2\" class=\"data row0 col2\" >0.815100</td>\n                        <td id=\"T_82612012_d94b_11eb_bfa7_a0cec835c16drow0_col3\" class=\"data row0 col3\" >0.808749</td>\n                        <td id=\"T_82612012_d94b_11eb_bfa7_a0cec835c16drow0_col4\" class=\"data row0 col4\" >0.766804</td>\n            </tr>\n            <tr>\n                        <th id=\"T_82612012_d94b_11eb_bfa7_a0cec835c16dlevel0_row1\" class=\"row_heading level0 row1\" >1</th>\n                        <td id=\"T_82612012_d94b_11eb_bfa7_a0cec835c16drow1_col0\" class=\"data row1 col0\" >trg_fc128_lr0.0005_trainable.txt</td>\n                        <td id=\"T_82612012_d94b_11eb_bfa7_a0cec835c16drow1_col1\" class=\"data row1 col1\" >0.397400</td>\n                        <td id=\"T_82612012_d94b_11eb_bfa7_a0cec835c16drow1_col2\" class=\"data row1 col2\" >0.659476</td>\n                        <td id=\"T_82612012_d94b_11eb_bfa7_a0cec835c16drow1_col3\" class=\"data row1 col3\" >0.329738</td>\n                        <td id=\"T_82612012_d94b_11eb_bfa7_a0cec835c16drow1_col4\" class=\"data row1 col4\" >0.500000</td>\n            </tr>\n            <tr>\n                        <th id=\"T_82612012_d94b_11eb_bfa7_a0cec835c16dlevel0_row2\" class=\"row_heading level0 row2\" >2</th>\n                        <td id=\"T_82612012_d94b_11eb_bfa7_a0cec835c16drow2_col0\" class=\"data row2 col0\" >trg_fc128_lr0.005_frozen.txt</td>\n                        <td id=\"T_82612012_d94b_11eb_bfa7_a0cec835c16drow2_col1\" class=\"data row2 col1\" >0.759478</td>\n                        <td id=\"T_82612012_d94b_11eb_bfa7_a0cec835c16drow2_col2\" class=\"data row2 col2\" >0.779661</td>\n                        <td id=\"T_82612012_d94b_11eb_bfa7_a0cec835c16drow2_col3\" class=\"data row2 col3\" >0.755455</td>\n                        <td id=\"T_82612012_d94b_11eb_bfa7_a0cec835c16drow2_col4\" class=\"data row2 col4\" >0.765102</td>\n            </tr>\n            <tr>\n                        <th id=\"T_82612012_d94b_11eb_bfa7_a0cec835c16dlevel0_row3\" class=\"row_heading level0 row3\" >3</th>\n                        <td id=\"T_82612012_d94b_11eb_bfa7_a0cec835c16drow3_col0\" class=\"data row3 col0\" >trg_fc128_lr0.005_trainable.txt</td>\n                        <td id=\"T_82612012_d94b_11eb_bfa7_a0cec835c16drow3_col1\" class=\"data row3 col1\" >0.254023</td>\n                        <td id=\"T_82612012_d94b_11eb_bfa7_a0cec835c16drow3_col2\" class=\"data row3 col2\" >0.340524</td>\n                        <td id=\"T_82612012_d94b_11eb_bfa7_a0cec835c16drow3_col3\" class=\"data row3 col3\" >0.170262</td>\n                        <td id=\"T_82612012_d94b_11eb_bfa7_a0cec835c16drow3_col4\" class=\"data row3 col4\" >0.500000</td>\n            </tr>\n            <tr>\n                        <th id=\"T_82612012_d94b_11eb_bfa7_a0cec835c16dlevel0_row4\" class=\"row_heading level0 row4\" >4</th>\n                        <td id=\"T_82612012_d94b_11eb_bfa7_a0cec835c16drow4_col0\" class=\"data row4 col0\" >trg_fc128_lr0.05_frozen.txt</td>\n                        <td id=\"T_82612012_d94b_11eb_bfa7_a0cec835c16drow4_col1\" class=\"data row4 col1\" >0.717957</td>\n                        <td id=\"T_82612012_d94b_11eb_bfa7_a0cec835c16drow4_col2\" class=\"data row4 col2\" >0.773498</td>\n                        <td id=\"T_82612012_d94b_11eb_bfa7_a0cec835c16drow4_col3\" class=\"data row4 col3\" >0.770159</td>\n                        <td id=\"T_82612012_d94b_11eb_bfa7_a0cec835c16drow4_col4\" class=\"data row4 col4\" >0.703530</td>\n            </tr>\n            <tr>\n                        <th id=\"T_82612012_d94b_11eb_bfa7_a0cec835c16dlevel0_row5\" class=\"row_heading level0 row5\" >5</th>\n                        <td id=\"T_82612012_d94b_11eb_bfa7_a0cec835c16drow5_col0\" class=\"data row5 col0\" >trg_fc128_lr0.05_trainable.txt</td>\n                        <td id=\"T_82612012_d94b_11eb_bfa7_a0cec835c16drow5_col1\" class=\"data row5 col1\" >0.254023</td>\n                        <td id=\"T_82612012_d94b_11eb_bfa7_a0cec835c16drow5_col2\" class=\"data row5 col2\" >0.340524</td>\n                        <td id=\"T_82612012_d94b_11eb_bfa7_a0cec835c16drow5_col3\" class=\"data row5 col3\" >0.170262</td>\n                        <td id=\"T_82612012_d94b_11eb_bfa7_a0cec835c16drow5_col4\" class=\"data row5 col4\" >0.500000</td>\n            </tr>\n            <tr>\n                        <th id=\"T_82612012_d94b_11eb_bfa7_a0cec835c16dlevel0_row6\" class=\"row_heading level0 row6\" >6</th>\n                        <td id=\"T_82612012_d94b_11eb_bfa7_a0cec835c16drow6_col0\" class=\"data row6 col0\" >trg_fc256_lr0.0005_frozen.txt</td>\n                        <td id=\"T_82612012_d94b_11eb_bfa7_a0cec835c16drow6_col1\" class=\"data row6 col1\" >0.777700</td>\n                        <td id=\"T_82612012_d94b_11eb_bfa7_a0cec835c16drow6_col2\" class=\"data row6 col2\" >0.812018</td>\n                        <td id=\"T_82612012_d94b_11eb_bfa7_a0cec835c16drow6_col3\" class=\"data row6 col3\" >0.803778</td>\n                        <td id=\"T_82612012_d94b_11eb_bfa7_a0cec835c16drow6_col4\" class=\"data row6 col4\" >0.764468</td>\n            </tr>\n            <tr>\n                        <th id=\"T_82612012_d94b_11eb_bfa7_a0cec835c16dlevel0_row7\" class=\"row_heading level0 row7\" >7</th>\n                        <td id=\"T_82612012_d94b_11eb_bfa7_a0cec835c16drow7_col0\" class=\"data row7 col0\" >trg_fc256_lr0.0005_trainable.txt</td>\n                        <td id=\"T_82612012_d94b_11eb_bfa7_a0cec835c16drow7_col1\" class=\"data row7 col1\" >0.254023</td>\n                        <td id=\"T_82612012_d94b_11eb_bfa7_a0cec835c16drow7_col2\" class=\"data row7 col2\" >0.340524</td>\n                        <td id=\"T_82612012_d94b_11eb_bfa7_a0cec835c16drow7_col3\" class=\"data row7 col3\" >0.170262</td>\n                        <td id=\"T_82612012_d94b_11eb_bfa7_a0cec835c16drow7_col4\" class=\"data row7 col4\" >0.500000</td>\n            </tr>\n            <tr>\n                        <th id=\"T_82612012_d94b_11eb_bfa7_a0cec835c16dlevel0_row8\" class=\"row_heading level0 row8\" >8</th>\n                        <td id=\"T_82612012_d94b_11eb_bfa7_a0cec835c16drow8_col0\" class=\"data row8 col0\" >trg_fc256_lr0.005_frozen.txt</td>\n                        <td id=\"T_82612012_d94b_11eb_bfa7_a0cec835c16drow8_col1\" class=\"data row8 col1\" >0.771482</td>\n                        <td id=\"T_82612012_d94b_11eb_bfa7_a0cec835c16drow8_col2\" class=\"data row8 col2\" >0.804314</td>\n                        <td id=\"T_82612012_d94b_11eb_bfa7_a0cec835c16drow8_col3\" class=\"data row8 col3\" >0.790256</td>\n                        <td id=\"T_82612012_d94b_11eb_bfa7_a0cec835c16drow8_col4\" class=\"data row8 col4\" >0.760815</td>\n            </tr>\n            <tr>\n                        <th id=\"T_82612012_d94b_11eb_bfa7_a0cec835c16dlevel0_row9\" class=\"row_heading level0 row9\" >9</th>\n                        <td id=\"T_82612012_d94b_11eb_bfa7_a0cec835c16drow9_col0\" class=\"data row9 col0\" >trg_fc256_lr0.005_trainable.txt</td>\n                        <td id=\"T_82612012_d94b_11eb_bfa7_a0cec835c16drow9_col1\" class=\"data row9 col1\" >0.254023</td>\n                        <td id=\"T_82612012_d94b_11eb_bfa7_a0cec835c16drow9_col2\" class=\"data row9 col2\" >0.340524</td>\n                        <td id=\"T_82612012_d94b_11eb_bfa7_a0cec835c16drow9_col3\" class=\"data row9 col3\" >0.170262</td>\n                        <td id=\"T_82612012_d94b_11eb_bfa7_a0cec835c16drow9_col4\" class=\"data row9 col4\" >0.500000</td>\n            </tr>\n            <tr>\n                        <th id=\"T_82612012_d94b_11eb_bfa7_a0cec835c16dlevel0_row10\" class=\"row_heading level0 row10\" >10</th>\n                        <td id=\"T_82612012_d94b_11eb_bfa7_a0cec835c16drow10_col0\" class=\"data row10 col0\" >trg_fc256_lr0.05_frozen.txt</td>\n                        <td id=\"T_82612012_d94b_11eb_bfa7_a0cec835c16drow10_col1\" class=\"data row10 col1\" >0.725190</td>\n                        <td id=\"T_82612012_d94b_11eb_bfa7_a0cec835c16drow10_col2\" class=\"data row10 col2\" >0.781202</td>\n                        <td id=\"T_82612012_d94b_11eb_bfa7_a0cec835c16drow10_col3\" class=\"data row10 col3\" >0.785401</td>\n                        <td id=\"T_82612012_d94b_11eb_bfa7_a0cec835c16drow10_col4\" class=\"data row10 col4\" >0.709371</td>\n            </tr>\n            <tr>\n                        <th id=\"T_82612012_d94b_11eb_bfa7_a0cec835c16dlevel0_row11\" class=\"row_heading level0 row11\" >11</th>\n                        <td id=\"T_82612012_d94b_11eb_bfa7_a0cec835c16drow11_col0\" class=\"data row11 col0\" >trg_fc256_lr0.05_trainable.txt</td>\n                        <td id=\"T_82612012_d94b_11eb_bfa7_a0cec835c16drow11_col1\" class=\"data row11 col1\" >0.254023</td>\n                        <td id=\"T_82612012_d94b_11eb_bfa7_a0cec835c16drow11_col2\" class=\"data row11 col2\" >0.340524</td>\n                        <td id=\"T_82612012_d94b_11eb_bfa7_a0cec835c16drow11_col3\" class=\"data row11 col3\" >0.170262</td>\n                        <td id=\"T_82612012_d94b_11eb_bfa7_a0cec835c16drow11_col4\" class=\"data row11 col4\" >0.500000</td>\n            </tr>\n            <tr>\n                        <th id=\"T_82612012_d94b_11eb_bfa7_a0cec835c16dlevel0_row12\" class=\"row_heading level0 row12\" >12</th>\n                        <td id=\"T_82612012_d94b_11eb_bfa7_a0cec835c16drow12_col0\" class=\"data row12 col0\" >trg_fc512_lr0.0005_frozen.txt</td>\n                        <td id=\"T_82612012_d94b_11eb_bfa7_a0cec835c16drow12_col1\" class=\"data row12 col1\" >0.778376</td>\n                        <td id=\"T_82612012_d94b_11eb_bfa7_a0cec835c16drow12_col2\" class=\"data row12 col2\" >0.808937</td>\n                        <td id=\"T_82612012_d94b_11eb_bfa7_a0cec835c16drow12_col3\" class=\"data row12 col3\" >0.794181</td>\n                        <td id=\"T_82612012_d94b_11eb_bfa7_a0cec835c16drow12_col4\" class=\"data row12 col4\" >0.768697</td>\n            </tr>\n            <tr>\n                        <th id=\"T_82612012_d94b_11eb_bfa7_a0cec835c16dlevel0_row13\" class=\"row_heading level0 row13\" >13</th>\n                        <td id=\"T_82612012_d94b_11eb_bfa7_a0cec835c16drow13_col0\" class=\"data row13 col0\" >trg_fc512_lr0.0005_trainable.txt</td>\n                        <td id=\"T_82612012_d94b_11eb_bfa7_a0cec835c16drow13_col1\" class=\"data row13 col1\" >0.254023</td>\n                        <td id=\"T_82612012_d94b_11eb_bfa7_a0cec835c16drow13_col2\" class=\"data row13 col2\" >0.340524</td>\n                        <td id=\"T_82612012_d94b_11eb_bfa7_a0cec835c16drow13_col3\" class=\"data row13 col3\" >0.170262</td>\n                        <td id=\"T_82612012_d94b_11eb_bfa7_a0cec835c16drow13_col4\" class=\"data row13 col4\" >0.500000</td>\n            </tr>\n            <tr>\n                        <th id=\"T_82612012_d94b_11eb_bfa7_a0cec835c16dlevel0_row14\" class=\"row_heading level0 row14\" >14</th>\n                        <td id=\"T_82612012_d94b_11eb_bfa7_a0cec835c16drow14_col0\" class=\"data row14 col0\" >trg_fc512_lr0.005_frozen.txt</td>\n                        <td id=\"T_82612012_d94b_11eb_bfa7_a0cec835c16drow14_col1\" class=\"data row14 col1\" >0.760686</td>\n                        <td id=\"T_82612012_d94b_11eb_bfa7_a0cec835c16drow14_col2\" class=\"data row14 col2\" >0.795069</td>\n                        <td id=\"T_82612012_d94b_11eb_bfa7_a0cec835c16drow14_col3\" class=\"data row14 col3\" >0.778802</td>\n                        <td id=\"T_82612012_d94b_11eb_bfa7_a0cec835c16drow14_col4\" class=\"data row14 col4\" >0.750523</td>\n            </tr>\n            <tr>\n                        <th id=\"T_82612012_d94b_11eb_bfa7_a0cec835c16dlevel0_row15\" class=\"row_heading level0 row15\" >15</th>\n                        <td id=\"T_82612012_d94b_11eb_bfa7_a0cec835c16drow15_col0\" class=\"data row15 col0\" >trg_fc512_lr0.005_trainable.txt</td>\n                        <td id=\"T_82612012_d94b_11eb_bfa7_a0cec835c16drow15_col1\" class=\"data row15 col1\" >0.254023</td>\n                        <td id=\"T_82612012_d94b_11eb_bfa7_a0cec835c16drow15_col2\" class=\"data row15 col2\" >0.340524</td>\n                        <td id=\"T_82612012_d94b_11eb_bfa7_a0cec835c16drow15_col3\" class=\"data row15 col3\" >0.170262</td>\n                        <td id=\"T_82612012_d94b_11eb_bfa7_a0cec835c16drow15_col4\" class=\"data row15 col4\" >0.500000</td>\n            </tr>\n            <tr>\n                        <th id=\"T_82612012_d94b_11eb_bfa7_a0cec835c16dlevel0_row16\" class=\"row_heading level0 row16\" >16</th>\n                        <td id=\"T_82612012_d94b_11eb_bfa7_a0cec835c16drow16_col0\" class=\"data row16 col0\" >trg_fc512_lr0.05_frozen.txt</td>\n                        <td id=\"T_82612012_d94b_11eb_bfa7_a0cec835c16drow16_col1\" class=\"data row16 col1\" >0.373716</td>\n                        <td id=\"T_82612012_d94b_11eb_bfa7_a0cec835c16drow16_col2\" class=\"data row16 col2\" >0.403698</td>\n                        <td id=\"T_82612012_d94b_11eb_bfa7_a0cec835c16drow16_col3\" class=\"data row16 col3\" >0.383132</td>\n                        <td id=\"T_82612012_d94b_11eb_bfa7_a0cec835c16drow16_col4\" class=\"data row16 col4\" >0.371728</td>\n            </tr>\n            <tr>\n                        <th id=\"T_82612012_d94b_11eb_bfa7_a0cec835c16dlevel0_row17\" class=\"row_heading level0 row17\" >17</th>\n                        <td id=\"T_82612012_d94b_11eb_bfa7_a0cec835c16drow17_col0\" class=\"data row17 col0\" >trg_fc512_lr0.05_trainable.txt</td>\n                        <td id=\"T_82612012_d94b_11eb_bfa7_a0cec835c16drow17_col1\" class=\"data row17 col1\" >0.254023</td>\n                        <td id=\"T_82612012_d94b_11eb_bfa7_a0cec835c16drow17_col2\" class=\"data row17 col2\" >0.340524</td>\n                        <td id=\"T_82612012_d94b_11eb_bfa7_a0cec835c16drow17_col3\" class=\"data row17 col3\" >0.170262</td>\n                        <td id=\"T_82612012_d94b_11eb_bfa7_a0cec835c16drow17_col4\" class=\"data row17 col4\" >0.500000</td>\n            </tr>\n    </tbody></table>"
     },
     "execution_count": 9,
     "metadata": {},
     "output_type": "execute_result"
    }
   ],
   "source": [
    "create_results_df(os.path.join(LOG_HOME_DIR, 'monotask', 'bert-base-german-cased')).style.highlight_max(color='blue',\n",
    "                                                                                                        axis=0)\n"
   ],
   "metadata": {
    "collapsed": false,
    "pycharm": {
     "name": "#%%\n"
    }
   }
  },
  {
   "cell_type": "markdown",
   "source": [
    "## Multitask models"
   ],
   "metadata": {
    "collapsed": false,
    "pycharm": {
     "name": "#%% md\n"
    }
   }
  },
  {
   "cell_type": "markdown",
   "source": [
    "### (a) Multilingual BERT"
   ],
   "metadata": {
    "collapsed": false
   }
  },
  {
   "cell_type": "code",
   "execution_count": 10,
   "outputs": [
    {
     "data": {
      "text/plain": "<pandas.io.formats.style.Styler at 0x1dd237db978>",
      "text/html": "<style  type=\"text/css\" >\n#T_826c8b92_d94b_11eb_8731_a0cec835c16drow0_col1,#T_826c8b92_d94b_11eb_8731_a0cec835c16drow0_col2,#T_826c8b92_d94b_11eb_8731_a0cec835c16drow0_col4,#T_826c8b92_d94b_11eb_8731_a0cec835c16drow8_col2,#T_826c8b92_d94b_11eb_8731_a0cec835c16drow8_col3{\n            background-color:  blue;\n        }</style><table id=\"T_826c8b92_d94b_11eb_8731_a0cec835c16d\" ><thead>    <tr>        <th class=\"blank level0\" ></th>        <th class=\"col_heading level0 col0\" >log_filename</th>        <th class=\"col_heading level0 col1\" >f1</th>        <th class=\"col_heading level0 col2\" >acc</th>        <th class=\"col_heading level0 col3\" >precision</th>        <th class=\"col_heading level0 col4\" >recall</th>    </tr></thead><tbody>\n                <tr>\n                        <th id=\"T_826c8b92_d94b_11eb_8731_a0cec835c16dlevel0_row0\" class=\"row_heading level0 row0\" >0</th>\n                        <td id=\"T_826c8b92_d94b_11eb_8731_a0cec835c16drow0_col0\" class=\"data row0 col0\" >trg_fc128_lr0.0005_frozen.txt</td>\n                        <td id=\"T_826c8b92_d94b_11eb_8731_a0cec835c16drow0_col1\" class=\"data row0 col1\" >0.767662</td>\n                        <td id=\"T_826c8b92_d94b_11eb_8731_a0cec835c16drow0_col2\" class=\"data row0 col2\" >0.791988</td>\n                        <td id=\"T_826c8b92_d94b_11eb_8731_a0cec835c16drow0_col3\" class=\"data row0 col3\" >0.768577</td>\n                        <td id=\"T_826c8b92_d94b_11eb_8731_a0cec835c16drow0_col4\" class=\"data row0 col4\" >0.766789</td>\n            </tr>\n            <tr>\n                        <th id=\"T_826c8b92_d94b_11eb_8731_a0cec835c16dlevel0_row1\" class=\"row_heading level0 row1\" >1</th>\n                        <td id=\"T_826c8b92_d94b_11eb_8731_a0cec835c16drow1_col0\" class=\"data row1 col0\" >trg_fc128_lr0.0005_trainable.txt</td>\n                        <td id=\"T_826c8b92_d94b_11eb_8731_a0cec835c16drow1_col1\" class=\"data row1 col1\" >0.254023</td>\n                        <td id=\"T_826c8b92_d94b_11eb_8731_a0cec835c16drow1_col2\" class=\"data row1 col2\" >0.340524</td>\n                        <td id=\"T_826c8b92_d94b_11eb_8731_a0cec835c16drow1_col3\" class=\"data row1 col3\" >0.170262</td>\n                        <td id=\"T_826c8b92_d94b_11eb_8731_a0cec835c16drow1_col4\" class=\"data row1 col4\" >0.500000</td>\n            </tr>\n            <tr>\n                        <th id=\"T_826c8b92_d94b_11eb_8731_a0cec835c16dlevel0_row2\" class=\"row_heading level0 row2\" >2</th>\n                        <td id=\"T_826c8b92_d94b_11eb_8731_a0cec835c16drow2_col0\" class=\"data row2 col0\" >trg_fc128_lr0.005_frozen.txt</td>\n                        <td id=\"T_826c8b92_d94b_11eb_8731_a0cec835c16drow2_col1\" class=\"data row2 col1\" >0.741753</td>\n                        <td id=\"T_826c8b92_d94b_11eb_8731_a0cec835c16drow2_col2\" class=\"data row2 col2\" >0.775039</td>\n                        <td id=\"T_826c8b92_d94b_11eb_8731_a0cec835c16drow2_col3\" class=\"data row2 col3\" >0.751440</td>\n                        <td id=\"T_826c8b92_d94b_11eb_8731_a0cec835c16drow2_col4\" class=\"data row2 col4\" >0.735336</td>\n            </tr>\n            <tr>\n                        <th id=\"T_826c8b92_d94b_11eb_8731_a0cec835c16dlevel0_row3\" class=\"row_heading level0 row3\" >3</th>\n                        <td id=\"T_826c8b92_d94b_11eb_8731_a0cec835c16drow3_col0\" class=\"data row3 col0\" >trg_fc128_lr0.005_trainable.txt</td>\n                        <td id=\"T_826c8b92_d94b_11eb_8731_a0cec835c16drow3_col1\" class=\"data row3 col1\" >0.254023</td>\n                        <td id=\"T_826c8b92_d94b_11eb_8731_a0cec835c16drow3_col2\" class=\"data row3 col2\" >0.340524</td>\n                        <td id=\"T_826c8b92_d94b_11eb_8731_a0cec835c16drow3_col3\" class=\"data row3 col3\" >0.170262</td>\n                        <td id=\"T_826c8b92_d94b_11eb_8731_a0cec835c16drow3_col4\" class=\"data row3 col4\" >0.500000</td>\n            </tr>\n            <tr>\n                        <th id=\"T_826c8b92_d94b_11eb_8731_a0cec835c16dlevel0_row4\" class=\"row_heading level0 row4\" >4</th>\n                        <td id=\"T_826c8b92_d94b_11eb_8731_a0cec835c16drow4_col0\" class=\"data row4 col0\" >trg_fc128_lr0.05_frozen.txt</td>\n                        <td id=\"T_826c8b92_d94b_11eb_8731_a0cec835c16drow4_col1\" class=\"data row4 col1\" >0.386932</td>\n                        <td id=\"T_826c8b92_d94b_11eb_8731_a0cec835c16drow4_col2\" class=\"data row4 col2\" >0.423729</td>\n                        <td id=\"T_826c8b92_d94b_11eb_8731_a0cec835c16drow4_col3\" class=\"data row4 col3\" >0.652580</td>\n                        <td id=\"T_826c8b92_d94b_11eb_8731_a0cec835c16drow4_col4\" class=\"data row4 col4\" >0.558707</td>\n            </tr>\n            <tr>\n                        <th id=\"T_826c8b92_d94b_11eb_8731_a0cec835c16dlevel0_row5\" class=\"row_heading level0 row5\" >5</th>\n                        <td id=\"T_826c8b92_d94b_11eb_8731_a0cec835c16drow5_col0\" class=\"data row5 col0\" >trg_fc128_lr0.05_trainable.txt</td>\n                        <td id=\"T_826c8b92_d94b_11eb_8731_a0cec835c16drow5_col1\" class=\"data row5 col1\" >0.254023</td>\n                        <td id=\"T_826c8b92_d94b_11eb_8731_a0cec835c16drow5_col2\" class=\"data row5 col2\" >0.340524</td>\n                        <td id=\"T_826c8b92_d94b_11eb_8731_a0cec835c16drow5_col3\" class=\"data row5 col3\" >0.170262</td>\n                        <td id=\"T_826c8b92_d94b_11eb_8731_a0cec835c16drow5_col4\" class=\"data row5 col4\" >0.500000</td>\n            </tr>\n            <tr>\n                        <th id=\"T_826c8b92_d94b_11eb_8731_a0cec835c16dlevel0_row6\" class=\"row_heading level0 row6\" >6</th>\n                        <td id=\"T_826c8b92_d94b_11eb_8731_a0cec835c16drow6_col0\" class=\"data row6 col0\" >trg_fc256_lr0.0005_frozen.txt</td>\n                        <td id=\"T_826c8b92_d94b_11eb_8731_a0cec835c16drow6_col1\" class=\"data row6 col1\" >0.750766</td>\n                        <td id=\"T_826c8b92_d94b_11eb_8731_a0cec835c16drow6_col2\" class=\"data row6 col2\" >0.773498</td>\n                        <td id=\"T_826c8b92_d94b_11eb_8731_a0cec835c16drow6_col3\" class=\"data row6 col3\" >0.748207</td>\n                        <td id=\"T_826c8b92_d94b_11eb_8731_a0cec835c16drow6_col4\" class=\"data row6 col4\" >0.753864</td>\n            </tr>\n            <tr>\n                        <th id=\"T_826c8b92_d94b_11eb_8731_a0cec835c16dlevel0_row7\" class=\"row_heading level0 row7\" >7</th>\n                        <td id=\"T_826c8b92_d94b_11eb_8731_a0cec835c16drow7_col0\" class=\"data row7 col0\" >trg_fc256_lr0.0005_trainable.txt</td>\n                        <td id=\"T_826c8b92_d94b_11eb_8731_a0cec835c16drow7_col1\" class=\"data row7 col1\" >0.254023</td>\n                        <td id=\"T_826c8b92_d94b_11eb_8731_a0cec835c16drow7_col2\" class=\"data row7 col2\" >0.340524</td>\n                        <td id=\"T_826c8b92_d94b_11eb_8731_a0cec835c16drow7_col3\" class=\"data row7 col3\" >0.170262</td>\n                        <td id=\"T_826c8b92_d94b_11eb_8731_a0cec835c16drow7_col4\" class=\"data row7 col4\" >0.500000</td>\n            </tr>\n            <tr>\n                        <th id=\"T_826c8b92_d94b_11eb_8731_a0cec835c16dlevel0_row8\" class=\"row_heading level0 row8\" >8</th>\n                        <td id=\"T_826c8b92_d94b_11eb_8731_a0cec835c16drow8_col0\" class=\"data row8 col0\" >trg_fc256_lr0.005_frozen.txt</td>\n                        <td id=\"T_826c8b92_d94b_11eb_8731_a0cec835c16drow8_col1\" class=\"data row8 col1\" >0.752221</td>\n                        <td id=\"T_826c8b92_d94b_11eb_8731_a0cec835c16drow8_col2\" class=\"data row8 col2\" >0.791988</td>\n                        <td id=\"T_826c8b92_d94b_11eb_8731_a0cec835c16drow8_col3\" class=\"data row8 col3\" >0.780263</td>\n                        <td id=\"T_826c8b92_d94b_11eb_8731_a0cec835c16drow8_col4\" class=\"data row8 col4\" >0.739433</td>\n            </tr>\n            <tr>\n                        <th id=\"T_826c8b92_d94b_11eb_8731_a0cec835c16dlevel0_row9\" class=\"row_heading level0 row9\" >9</th>\n                        <td id=\"T_826c8b92_d94b_11eb_8731_a0cec835c16drow9_col0\" class=\"data row9 col0\" >trg_fc256_lr0.005_trainable.txt</td>\n                        <td id=\"T_826c8b92_d94b_11eb_8731_a0cec835c16drow9_col1\" class=\"data row9 col1\" >0.254023</td>\n                        <td id=\"T_826c8b92_d94b_11eb_8731_a0cec835c16drow9_col2\" class=\"data row9 col2\" >0.340524</td>\n                        <td id=\"T_826c8b92_d94b_11eb_8731_a0cec835c16drow9_col3\" class=\"data row9 col3\" >0.170262</td>\n                        <td id=\"T_826c8b92_d94b_11eb_8731_a0cec835c16drow9_col4\" class=\"data row9 col4\" >0.500000</td>\n            </tr>\n            <tr>\n                        <th id=\"T_826c8b92_d94b_11eb_8731_a0cec835c16dlevel0_row10\" class=\"row_heading level0 row10\" >10</th>\n                        <td id=\"T_826c8b92_d94b_11eb_8731_a0cec835c16drow10_col0\" class=\"data row10 col0\" >trg_fc256_lr0.05_frozen.txt</td>\n                        <td id=\"T_826c8b92_d94b_11eb_8731_a0cec835c16drow10_col1\" class=\"data row10 col1\" >0.379566</td>\n                        <td id=\"T_826c8b92_d94b_11eb_8731_a0cec835c16drow10_col2\" class=\"data row10 col2\" >0.420647</td>\n                        <td id=\"T_826c8b92_d94b_11eb_8731_a0cec835c16drow10_col3\" class=\"data row10 col3\" >0.675615</td>\n                        <td id=\"T_826c8b92_d94b_11eb_8731_a0cec835c16drow10_col4\" class=\"data row10 col4\" >0.559653</td>\n            </tr>\n            <tr>\n                        <th id=\"T_826c8b92_d94b_11eb_8731_a0cec835c16dlevel0_row11\" class=\"row_heading level0 row11\" >11</th>\n                        <td id=\"T_826c8b92_d94b_11eb_8731_a0cec835c16drow11_col0\" class=\"data row11 col0\" >trg_fc256_lr0.05_trainable.txt</td>\n                        <td id=\"T_826c8b92_d94b_11eb_8731_a0cec835c16drow11_col1\" class=\"data row11 col1\" >0.254023</td>\n                        <td id=\"T_826c8b92_d94b_11eb_8731_a0cec835c16drow11_col2\" class=\"data row11 col2\" >0.340524</td>\n                        <td id=\"T_826c8b92_d94b_11eb_8731_a0cec835c16drow11_col3\" class=\"data row11 col3\" >0.170262</td>\n                        <td id=\"T_826c8b92_d94b_11eb_8731_a0cec835c16drow11_col4\" class=\"data row11 col4\" >0.500000</td>\n            </tr>\n            <tr>\n                        <th id=\"T_826c8b92_d94b_11eb_8731_a0cec835c16dlevel0_row12\" class=\"row_heading level0 row12\" >12</th>\n                        <td id=\"T_826c8b92_d94b_11eb_8731_a0cec835c16drow12_col0\" class=\"data row12 col0\" >trg_fc512_lr0.0005_frozen.txt</td>\n                        <td id=\"T_826c8b92_d94b_11eb_8731_a0cec835c16drow12_col1\" class=\"data row12 col1\" >0.748121</td>\n                        <td id=\"T_826c8b92_d94b_11eb_8731_a0cec835c16drow12_col2\" class=\"data row12 col2\" >0.773498</td>\n                        <td id=\"T_826c8b92_d94b_11eb_8731_a0cec835c16drow12_col3\" class=\"data row12 col3\" >0.747853</td>\n                        <td id=\"T_826c8b92_d94b_11eb_8731_a0cec835c16drow12_col4\" class=\"data row12 col4\" >0.748393</td>\n            </tr>\n            <tr>\n                        <th id=\"T_826c8b92_d94b_11eb_8731_a0cec835c16dlevel0_row13\" class=\"row_heading level0 row13\" >13</th>\n                        <td id=\"T_826c8b92_d94b_11eb_8731_a0cec835c16drow13_col0\" class=\"data row13 col0\" >trg_fc512_lr0.0005_trainable.txt</td>\n                        <td id=\"T_826c8b92_d94b_11eb_8731_a0cec835c16drow13_col1\" class=\"data row13 col1\" >0.254023</td>\n                        <td id=\"T_826c8b92_d94b_11eb_8731_a0cec835c16drow13_col2\" class=\"data row13 col2\" >0.340524</td>\n                        <td id=\"T_826c8b92_d94b_11eb_8731_a0cec835c16drow13_col3\" class=\"data row13 col3\" >0.170262</td>\n                        <td id=\"T_826c8b92_d94b_11eb_8731_a0cec835c16drow13_col4\" class=\"data row13 col4\" >0.500000</td>\n            </tr>\n            <tr>\n                        <th id=\"T_826c8b92_d94b_11eb_8731_a0cec835c16dlevel0_row14\" class=\"row_heading level0 row14\" >14</th>\n                        <td id=\"T_826c8b92_d94b_11eb_8731_a0cec835c16drow14_col0\" class=\"data row14 col0\" >trg_fc512_lr0.005_frozen.txt</td>\n                        <td id=\"T_826c8b92_d94b_11eb_8731_a0cec835c16drow14_col1\" class=\"data row14 col1\" >0.746514</td>\n                        <td id=\"T_826c8b92_d94b_11eb_8731_a0cec835c16drow14_col2\" class=\"data row14 col2\" >0.767334</td>\n                        <td id=\"T_826c8b92_d94b_11eb_8731_a0cec835c16drow14_col3\" class=\"data row14 col3\" >0.742461</td>\n                        <td id=\"T_826c8b92_d94b_11eb_8731_a0cec835c16drow14_col4\" class=\"data row14 col4\" >0.752474</td>\n            </tr>\n            <tr>\n                        <th id=\"T_826c8b92_d94b_11eb_8731_a0cec835c16dlevel0_row15\" class=\"row_heading level0 row15\" >15</th>\n                        <td id=\"T_826c8b92_d94b_11eb_8731_a0cec835c16drow15_col0\" class=\"data row15 col0\" >trg_fc512_lr0.005_trainable.txt</td>\n                        <td id=\"T_826c8b92_d94b_11eb_8731_a0cec835c16drow15_col1\" class=\"data row15 col1\" >0.254023</td>\n                        <td id=\"T_826c8b92_d94b_11eb_8731_a0cec835c16drow15_col2\" class=\"data row15 col2\" >0.340524</td>\n                        <td id=\"T_826c8b92_d94b_11eb_8731_a0cec835c16drow15_col3\" class=\"data row15 col3\" >0.170262</td>\n                        <td id=\"T_826c8b92_d94b_11eb_8731_a0cec835c16drow15_col4\" class=\"data row15 col4\" >0.500000</td>\n            </tr>\n            <tr>\n                        <th id=\"T_826c8b92_d94b_11eb_8731_a0cec835c16dlevel0_row16\" class=\"row_heading level0 row16\" >16</th>\n                        <td id=\"T_826c8b92_d94b_11eb_8731_a0cec835c16drow16_col0\" class=\"data row16 col0\" >trg_fc512_lr0.05_frozen.txt</td>\n                        <td id=\"T_826c8b92_d94b_11eb_8731_a0cec835c16drow16_col1\" class=\"data row16 col1\" >0.516231</td>\n                        <td id=\"T_826c8b92_d94b_11eb_8731_a0cec835c16drow16_col2\" class=\"data row16 col2\" >0.517720</td>\n                        <td id=\"T_826c8b92_d94b_11eb_8731_a0cec835c16drow16_col3\" class=\"data row16 col3\" >0.605836</td>\n                        <td id=\"T_826c8b92_d94b_11eb_8731_a0cec835c16drow16_col4\" class=\"data row16 col4\" >0.596048</td>\n            </tr>\n            <tr>\n                        <th id=\"T_826c8b92_d94b_11eb_8731_a0cec835c16dlevel0_row17\" class=\"row_heading level0 row17\" >17</th>\n                        <td id=\"T_826c8b92_d94b_11eb_8731_a0cec835c16drow17_col0\" class=\"data row17 col0\" >trg_fc512_lr0.05_trainable.txt</td>\n                        <td id=\"T_826c8b92_d94b_11eb_8731_a0cec835c16drow17_col1\" class=\"data row17 col1\" >0.254023</td>\n                        <td id=\"T_826c8b92_d94b_11eb_8731_a0cec835c16drow17_col2\" class=\"data row17 col2\" >0.340524</td>\n                        <td id=\"T_826c8b92_d94b_11eb_8731_a0cec835c16drow17_col3\" class=\"data row17 col3\" >0.170262</td>\n                        <td id=\"T_826c8b92_d94b_11eb_8731_a0cec835c16drow17_col4\" class=\"data row17 col4\" >0.500000</td>\n            </tr>\n    </tbody></table>"
     },
     "execution_count": 10,
     "metadata": {},
     "output_type": "execute_result"
    }
   ],
   "source": [
    "create_results_df(os.path.join(LOG_HOME_DIR, 'multitask', 'bert-base-multilingual-cased')).style.highlight_max(\n",
    "    color='blue', axis=0)"
   ],
   "metadata": {
    "collapsed": false,
    "pycharm": {
     "name": "#%%\n"
    }
   }
  },
  {
   "cell_type": "markdown",
   "source": [
    "### (b) German BERT"
   ],
   "metadata": {
    "collapsed": false,
    "pycharm": {
     "name": "#%% md\n"
    }
   }
  },
  {
   "cell_type": "code",
   "execution_count": 11,
   "outputs": [
    {
     "data": {
      "text/plain": "<pandas.io.formats.style.Styler at 0x1dd23b5b9b0>",
      "text/html": "<style  type=\"text/css\" >\n#T_827624d2_d94b_11eb_9d96_a0cec835c16drow6_col4,#T_827624d2_d94b_11eb_9d96_a0cec835c16drow12_col1,#T_827624d2_d94b_11eb_9d96_a0cec835c16drow12_col2,#T_827624d2_d94b_11eb_9d96_a0cec835c16drow12_col3{\n            background-color:  blue;\n        }</style><table id=\"T_827624d2_d94b_11eb_9d96_a0cec835c16d\" ><thead>    <tr>        <th class=\"blank level0\" ></th>        <th class=\"col_heading level0 col0\" >log_filename</th>        <th class=\"col_heading level0 col1\" >f1</th>        <th class=\"col_heading level0 col2\" >acc</th>        <th class=\"col_heading level0 col3\" >precision</th>        <th class=\"col_heading level0 col4\" >recall</th>    </tr></thead><tbody>\n                <tr>\n                        <th id=\"T_827624d2_d94b_11eb_9d96_a0cec835c16dlevel0_row0\" class=\"row_heading level0 row0\" >0</th>\n                        <td id=\"T_827624d2_d94b_11eb_9d96_a0cec835c16drow0_col0\" class=\"data row0 col0\" >trg_fc128_lr0.0005_frozen.txt</td>\n                        <td id=\"T_827624d2_d94b_11eb_9d96_a0cec835c16drow0_col1\" class=\"data row0 col1\" >0.769996</td>\n                        <td id=\"T_827624d2_d94b_11eb_9d96_a0cec835c16drow0_col2\" class=\"data row0 col2\" >0.802773</td>\n                        <td id=\"T_827624d2_d94b_11eb_9d96_a0cec835c16drow0_col3\" class=\"data row0 col3\" >0.787993</td>\n                        <td id=\"T_827624d2_d94b_11eb_9d96_a0cec835c16drow0_col4\" class=\"data row0 col4\" >0.759647</td>\n            </tr>\n            <tr>\n                        <th id=\"T_827624d2_d94b_11eb_9d96_a0cec835c16dlevel0_row1\" class=\"row_heading level0 row1\" >1</th>\n                        <td id=\"T_827624d2_d94b_11eb_9d96_a0cec835c16drow1_col0\" class=\"data row1 col0\" >trg_fc128_lr0.0005_trainable.txt</td>\n                        <td id=\"T_827624d2_d94b_11eb_9d96_a0cec835c16drow1_col1\" class=\"data row1 col1\" >0.397400</td>\n                        <td id=\"T_827624d2_d94b_11eb_9d96_a0cec835c16drow1_col2\" class=\"data row1 col2\" >0.659476</td>\n                        <td id=\"T_827624d2_d94b_11eb_9d96_a0cec835c16drow1_col3\" class=\"data row1 col3\" >0.329738</td>\n                        <td id=\"T_827624d2_d94b_11eb_9d96_a0cec835c16drow1_col4\" class=\"data row1 col4\" >0.500000</td>\n            </tr>\n            <tr>\n                        <th id=\"T_827624d2_d94b_11eb_9d96_a0cec835c16dlevel0_row2\" class=\"row_heading level0 row2\" >2</th>\n                        <td id=\"T_827624d2_d94b_11eb_9d96_a0cec835c16drow2_col0\" class=\"data row2 col0\" >trg_fc128_lr0.005_frozen.txt</td>\n                        <td id=\"T_827624d2_d94b_11eb_9d96_a0cec835c16drow2_col1\" class=\"data row2 col1\" >0.774056</td>\n                        <td id=\"T_827624d2_d94b_11eb_9d96_a0cec835c16drow2_col2\" class=\"data row2 col2\" >0.808937</td>\n                        <td id=\"T_827624d2_d94b_11eb_9d96_a0cec835c16drow2_col3\" class=\"data row2 col3\" >0.799837</td>\n                        <td id=\"T_827624d2_d94b_11eb_9d96_a0cec835c16drow2_col4\" class=\"data row2 col4\" >0.761037</td>\n            </tr>\n            <tr>\n                        <th id=\"T_827624d2_d94b_11eb_9d96_a0cec835c16dlevel0_row3\" class=\"row_heading level0 row3\" >3</th>\n                        <td id=\"T_827624d2_d94b_11eb_9d96_a0cec835c16drow3_col0\" class=\"data row3 col0\" >trg_fc128_lr0.005_trainable.txt</td>\n                        <td id=\"T_827624d2_d94b_11eb_9d96_a0cec835c16drow3_col1\" class=\"data row3 col1\" >0.254023</td>\n                        <td id=\"T_827624d2_d94b_11eb_9d96_a0cec835c16drow3_col2\" class=\"data row3 col2\" >0.340524</td>\n                        <td id=\"T_827624d2_d94b_11eb_9d96_a0cec835c16drow3_col3\" class=\"data row3 col3\" >0.170262</td>\n                        <td id=\"T_827624d2_d94b_11eb_9d96_a0cec835c16drow3_col4\" class=\"data row3 col4\" >0.500000</td>\n            </tr>\n            <tr>\n                        <th id=\"T_827624d2_d94b_11eb_9d96_a0cec835c16dlevel0_row4\" class=\"row_heading level0 row4\" >4</th>\n                        <td id=\"T_827624d2_d94b_11eb_9d96_a0cec835c16drow4_col0\" class=\"data row4 col0\" >trg_fc128_lr0.05_frozen.txt</td>\n                        <td id=\"T_827624d2_d94b_11eb_9d96_a0cec835c16drow4_col1\" class=\"data row4 col1\" >0.254023</td>\n                        <td id=\"T_827624d2_d94b_11eb_9d96_a0cec835c16drow4_col2\" class=\"data row4 col2\" >0.340524</td>\n                        <td id=\"T_827624d2_d94b_11eb_9d96_a0cec835c16drow4_col3\" class=\"data row4 col3\" >0.170262</td>\n                        <td id=\"T_827624d2_d94b_11eb_9d96_a0cec835c16drow4_col4\" class=\"data row4 col4\" >0.500000</td>\n            </tr>\n            <tr>\n                        <th id=\"T_827624d2_d94b_11eb_9d96_a0cec835c16dlevel0_row5\" class=\"row_heading level0 row5\" >5</th>\n                        <td id=\"T_827624d2_d94b_11eb_9d96_a0cec835c16drow5_col0\" class=\"data row5 col0\" >trg_fc128_lr0.05_trainable.txt</td>\n                        <td id=\"T_827624d2_d94b_11eb_9d96_a0cec835c16drow5_col1\" class=\"data row5 col1\" >0.254023</td>\n                        <td id=\"T_827624d2_d94b_11eb_9d96_a0cec835c16drow5_col2\" class=\"data row5 col2\" >0.340524</td>\n                        <td id=\"T_827624d2_d94b_11eb_9d96_a0cec835c16drow5_col3\" class=\"data row5 col3\" >0.170262</td>\n                        <td id=\"T_827624d2_d94b_11eb_9d96_a0cec835c16drow5_col4\" class=\"data row5 col4\" >0.500000</td>\n            </tr>\n            <tr>\n                        <th id=\"T_827624d2_d94b_11eb_9d96_a0cec835c16dlevel0_row6\" class=\"row_heading level0 row6\" >6</th>\n                        <td id=\"T_827624d2_d94b_11eb_9d96_a0cec835c16drow6_col0\" class=\"data row6 col0\" >trg_fc256_lr0.0005_frozen.txt</td>\n                        <td id=\"T_827624d2_d94b_11eb_9d96_a0cec835c16drow6_col1\" class=\"data row6 col1\" >0.779537</td>\n                        <td id=\"T_827624d2_d94b_11eb_9d96_a0cec835c16drow6_col2\" class=\"data row6 col2\" >0.808937</td>\n                        <td id=\"T_827624d2_d94b_11eb_9d96_a0cec835c16drow6_col3\" class=\"data row6 col3\" >0.792902</td>\n                        <td id=\"T_827624d2_d94b_11eb_9d96_a0cec835c16drow6_col4\" class=\"data row6 col4\" >0.770885</td>\n            </tr>\n            <tr>\n                        <th id=\"T_827624d2_d94b_11eb_9d96_a0cec835c16dlevel0_row7\" class=\"row_heading level0 row7\" >7</th>\n                        <td id=\"T_827624d2_d94b_11eb_9d96_a0cec835c16drow7_col0\" class=\"data row7 col0\" >trg_fc256_lr0.0005_trainable.txt</td>\n                        <td id=\"T_827624d2_d94b_11eb_9d96_a0cec835c16drow7_col1\" class=\"data row7 col1\" >0.254023</td>\n                        <td id=\"T_827624d2_d94b_11eb_9d96_a0cec835c16drow7_col2\" class=\"data row7 col2\" >0.340524</td>\n                        <td id=\"T_827624d2_d94b_11eb_9d96_a0cec835c16drow7_col3\" class=\"data row7 col3\" >0.170262</td>\n                        <td id=\"T_827624d2_d94b_11eb_9d96_a0cec835c16drow7_col4\" class=\"data row7 col4\" >0.500000</td>\n            </tr>\n            <tr>\n                        <th id=\"T_827624d2_d94b_11eb_9d96_a0cec835c16dlevel0_row8\" class=\"row_heading level0 row8\" >8</th>\n                        <td id=\"T_827624d2_d94b_11eb_9d96_a0cec835c16drow8_col0\" class=\"data row8 col0\" >trg_fc256_lr0.005_frozen.txt</td>\n                        <td id=\"T_827624d2_d94b_11eb_9d96_a0cec835c16drow8_col1\" class=\"data row8 col1\" >0.755406</td>\n                        <td id=\"T_827624d2_d94b_11eb_9d96_a0cec835c16drow8_col2\" class=\"data row8 col2\" >0.784284</td>\n                        <td id=\"T_827624d2_d94b_11eb_9d96_a0cec835c16drow8_col3\" class=\"data row8 col3\" >0.760943</td>\n                        <td id=\"T_827624d2_d94b_11eb_9d96_a0cec835c16drow8_col4\" class=\"data row8 col4\" >0.751100</td>\n            </tr>\n            <tr>\n                        <th id=\"T_827624d2_d94b_11eb_9d96_a0cec835c16dlevel0_row9\" class=\"row_heading level0 row9\" >9</th>\n                        <td id=\"T_827624d2_d94b_11eb_9d96_a0cec835c16drow9_col0\" class=\"data row9 col0\" >trg_fc256_lr0.005_trainable.txt</td>\n                        <td id=\"T_827624d2_d94b_11eb_9d96_a0cec835c16drow9_col1\" class=\"data row9 col1\" >0.254023</td>\n                        <td id=\"T_827624d2_d94b_11eb_9d96_a0cec835c16drow9_col2\" class=\"data row9 col2\" >0.340524</td>\n                        <td id=\"T_827624d2_d94b_11eb_9d96_a0cec835c16drow9_col3\" class=\"data row9 col3\" >0.170262</td>\n                        <td id=\"T_827624d2_d94b_11eb_9d96_a0cec835c16drow9_col4\" class=\"data row9 col4\" >0.500000</td>\n            </tr>\n            <tr>\n                        <th id=\"T_827624d2_d94b_11eb_9d96_a0cec835c16dlevel0_row10\" class=\"row_heading level0 row10\" >10</th>\n                        <td id=\"T_827624d2_d94b_11eb_9d96_a0cec835c16drow10_col0\" class=\"data row10 col0\" >trg_fc256_lr0.05_frozen.txt</td>\n                        <td id=\"T_827624d2_d94b_11eb_9d96_a0cec835c16drow10_col1\" class=\"data row10 col1\" >0.363062</td>\n                        <td id=\"T_827624d2_d94b_11eb_9d96_a0cec835c16drow10_col2\" class=\"data row10 col2\" >0.408320</td>\n                        <td id=\"T_827624d2_d94b_11eb_9d96_a0cec835c16drow10_col3\" class=\"data row10 col3\" >0.661363</td>\n                        <td id=\"T_827624d2_d94b_11eb_9d96_a0cec835c16drow10_col4\" class=\"data row10 col4\" >0.549213</td>\n            </tr>\n            <tr>\n                        <th id=\"T_827624d2_d94b_11eb_9d96_a0cec835c16dlevel0_row11\" class=\"row_heading level0 row11\" >11</th>\n                        <td id=\"T_827624d2_d94b_11eb_9d96_a0cec835c16drow11_col0\" class=\"data row11 col0\" >trg_fc256_lr0.05_trainable.txt</td>\n                        <td id=\"T_827624d2_d94b_11eb_9d96_a0cec835c16drow11_col1\" class=\"data row11 col1\" >0.254023</td>\n                        <td id=\"T_827624d2_d94b_11eb_9d96_a0cec835c16drow11_col2\" class=\"data row11 col2\" >0.340524</td>\n                        <td id=\"T_827624d2_d94b_11eb_9d96_a0cec835c16drow11_col3\" class=\"data row11 col3\" >0.170262</td>\n                        <td id=\"T_827624d2_d94b_11eb_9d96_a0cec835c16drow11_col4\" class=\"data row11 col4\" >0.500000</td>\n            </tr>\n            <tr>\n                        <th id=\"T_827624d2_d94b_11eb_9d96_a0cec835c16dlevel0_row12\" class=\"row_heading level0 row12\" >12</th>\n                        <td id=\"T_827624d2_d94b_11eb_9d96_a0cec835c16drow12_col0\" class=\"data row12 col0\" >trg_fc512_lr0.0005_frozen.txt</td>\n                        <td id=\"T_827624d2_d94b_11eb_9d96_a0cec835c16drow12_col1\" class=\"data row12 col1\" >0.780178</td>\n                        <td id=\"T_827624d2_d94b_11eb_9d96_a0cec835c16drow12_col2\" class=\"data row12 col2\" >0.812018</td>\n                        <td id=\"T_827624d2_d94b_11eb_9d96_a0cec835c16drow12_col3\" class=\"data row12 col3\" >0.800202</td>\n                        <td id=\"T_827624d2_d94b_11eb_9d96_a0cec835c16drow12_col4\" class=\"data row12 col4\" >0.768845</td>\n            </tr>\n            <tr>\n                        <th id=\"T_827624d2_d94b_11eb_9d96_a0cec835c16dlevel0_row13\" class=\"row_heading level0 row13\" >13</th>\n                        <td id=\"T_827624d2_d94b_11eb_9d96_a0cec835c16drow13_col0\" class=\"data row13 col0\" >trg_fc512_lr0.0005_trainable.txt</td>\n                        <td id=\"T_827624d2_d94b_11eb_9d96_a0cec835c16drow13_col1\" class=\"data row13 col1\" >0.254023</td>\n                        <td id=\"T_827624d2_d94b_11eb_9d96_a0cec835c16drow13_col2\" class=\"data row13 col2\" >0.340524</td>\n                        <td id=\"T_827624d2_d94b_11eb_9d96_a0cec835c16drow13_col3\" class=\"data row13 col3\" >0.170262</td>\n                        <td id=\"T_827624d2_d94b_11eb_9d96_a0cec835c16drow13_col4\" class=\"data row13 col4\" >0.500000</td>\n            </tr>\n            <tr>\n                        <th id=\"T_827624d2_d94b_11eb_9d96_a0cec835c16dlevel0_row14\" class=\"row_heading level0 row14\" >14</th>\n                        <td id=\"T_827624d2_d94b_11eb_9d96_a0cec835c16drow14_col0\" class=\"data row14 col0\" >trg_fc512_lr0.005_frozen.txt</td>\n                        <td id=\"T_827624d2_d94b_11eb_9d96_a0cec835c16drow14_col1\" class=\"data row14 col1\" >0.751090</td>\n                        <td id=\"T_827624d2_d94b_11eb_9d96_a0cec835c16drow14_col2\" class=\"data row14 col2\" >0.784284</td>\n                        <td id=\"T_827624d2_d94b_11eb_9d96_a0cec835c16drow14_col3\" class=\"data row14 col3\" >0.763226</td>\n                        <td id=\"T_827624d2_d94b_11eb_9d96_a0cec835c16drow14_col4\" class=\"data row14 col4\" >0.743440</td>\n            </tr>\n            <tr>\n                        <th id=\"T_827624d2_d94b_11eb_9d96_a0cec835c16dlevel0_row15\" class=\"row_heading level0 row15\" >15</th>\n                        <td id=\"T_827624d2_d94b_11eb_9d96_a0cec835c16drow15_col0\" class=\"data row15 col0\" >trg_fc512_lr0.005_trainable.txt</td>\n                        <td id=\"T_827624d2_d94b_11eb_9d96_a0cec835c16drow15_col1\" class=\"data row15 col1\" >0.254023</td>\n                        <td id=\"T_827624d2_d94b_11eb_9d96_a0cec835c16drow15_col2\" class=\"data row15 col2\" >0.340524</td>\n                        <td id=\"T_827624d2_d94b_11eb_9d96_a0cec835c16drow15_col3\" class=\"data row15 col3\" >0.170262</td>\n                        <td id=\"T_827624d2_d94b_11eb_9d96_a0cec835c16drow15_col4\" class=\"data row15 col4\" >0.500000</td>\n            </tr>\n            <tr>\n                        <th id=\"T_827624d2_d94b_11eb_9d96_a0cec835c16dlevel0_row16\" class=\"row_heading level0 row16\" >16</th>\n                        <td id=\"T_827624d2_d94b_11eb_9d96_a0cec835c16drow16_col0\" class=\"data row16 col0\" >trg_fc512_lr0.05_frozen.txt</td>\n                        <td id=\"T_827624d2_d94b_11eb_9d96_a0cec835c16drow16_col1\" class=\"data row16 col1\" >0.651136</td>\n                        <td id=\"T_827624d2_d94b_11eb_9d96_a0cec835c16drow16_col2\" class=\"data row16 col2\" >0.654854</td>\n                        <td id=\"T_827624d2_d94b_11eb_9d96_a0cec835c16drow16_col3\" class=\"data row16 col3\" >0.675006</td>\n                        <td id=\"T_827624d2_d94b_11eb_9d96_a0cec835c16drow16_col4\" class=\"data row16 col4\" >0.692361</td>\n            </tr>\n            <tr>\n                        <th id=\"T_827624d2_d94b_11eb_9d96_a0cec835c16dlevel0_row17\" class=\"row_heading level0 row17\" >17</th>\n                        <td id=\"T_827624d2_d94b_11eb_9d96_a0cec835c16drow17_col0\" class=\"data row17 col0\" >trg_fc512_lr0.05_trainable.txt</td>\n                        <td id=\"T_827624d2_d94b_11eb_9d96_a0cec835c16drow17_col1\" class=\"data row17 col1\" >0.254023</td>\n                        <td id=\"T_827624d2_d94b_11eb_9d96_a0cec835c16drow17_col2\" class=\"data row17 col2\" >0.340524</td>\n                        <td id=\"T_827624d2_d94b_11eb_9d96_a0cec835c16drow17_col3\" class=\"data row17 col3\" >0.170262</td>\n                        <td id=\"T_827624d2_d94b_11eb_9d96_a0cec835c16drow17_col4\" class=\"data row17 col4\" >0.500000</td>\n            </tr>\n    </tbody></table>"
     },
     "execution_count": 11,
     "metadata": {},
     "output_type": "execute_result"
    }
   ],
   "source": [
    "create_results_df(os.path.join(LOG_HOME_DIR, 'multitask', 'bert-base-german-cased')).style.highlight_max(color='blue',\n",
    "                                                                                                         axis=0)"
   ],
   "metadata": {
    "collapsed": false,
    "pycharm": {
     "name": "#%%\n"
    }
   }
  },
  {
   "cell_type": "markdown",
   "source": [
    "## Cross validation results"
   ],
   "metadata": {
    "collapsed": false,
    "pycharm": {
     "name": "#%% md\n"
    }
   }
  },
  {
   "cell_type": "code",
   "execution_count": 12,
   "outputs": [],
   "source": [
    "CV_LOG_HOME_DIR = os.path.join('../logs_cv/')\n",
    "FOLDS = ['fold_A', 'fold_B', 'fold_C', 'fold_D', 'fold_E']\n",
    "# sanity check\n",
    "assert os.path.isdir(CV_LOG_HOME_DIR)"
   ],
   "metadata": {
    "collapsed": false,
    "pycharm": {
     "name": "#%%\n"
    }
   }
  },
  {
   "cell_type": "code",
   "execution_count": 13,
   "outputs": [
    {
     "data": {
      "text/plain": "<pandas.io.formats.style.Styler at 0x1dd23be8630>",
      "text/html": "<style  type=\"text/css\" >\n#T_829945a6_d94b_11eb_a169_a0cec835c16drow0_col3,#T_829945a6_d94b_11eb_a169_a0cec835c16drow3_col3,#T_829945a6_d94b_11eb_a169_a0cec835c16drow4_col1,#T_829945a6_d94b_11eb_a169_a0cec835c16drow4_col2,#T_829945a6_d94b_11eb_a169_a0cec835c16drow4_col3,#T_829945a6_d94b_11eb_a169_a0cec835c16drow4_col4{\n            background:  blue;\n        }</style><table id=\"T_829945a6_d94b_11eb_a169_a0cec835c16d\" ><thead>    <tr>        <th class=\"blank level0\" ></th>        <th class=\"col_heading level0 col0\" >log_filename</th>        <th class=\"col_heading level0 col1\" >('monotask', 'bert-base-multilingual-cased')</th>        <th class=\"col_heading level0 col2\" >('monotask', 'bert-base-german-cased')</th>        <th class=\"col_heading level0 col3\" >('multitask', 'bert-base-multilingual-cased')</th>        <th class=\"col_heading level0 col4\" >('multitask', 'bert-base-german-cased')</th>    </tr></thead><tbody>\n                <tr>\n                        <th id=\"T_829945a6_d94b_11eb_a169_a0cec835c16dlevel0_row0\" class=\"row_heading level0 row0\" >0</th>\n                        <td id=\"T_829945a6_d94b_11eb_a169_a0cec835c16drow0_col0\" class=\"data row0 col0\" >trg_fc128_lr0.0005_frozen.txt</td>\n                        <td id=\"T_829945a6_d94b_11eb_a169_a0cec835c16drow0_col1\" class=\"data row0 col1\" >0.733 ± 0.01</td>\n                        <td id=\"T_829945a6_d94b_11eb_a169_a0cec835c16drow0_col2\" class=\"data row0 col2\" >0.760 ± 0.01</td>\n                        <td id=\"T_829945a6_d94b_11eb_a169_a0cec835c16drow0_col3\" class=\"data row0 col3\" >0.737 ± 0.02</td>\n                        <td id=\"T_829945a6_d94b_11eb_a169_a0cec835c16drow0_col4\" class=\"data row0 col4\" >0.754 ± 0.01</td>\n            </tr>\n            <tr>\n                        <th id=\"T_829945a6_d94b_11eb_a169_a0cec835c16dlevel0_row1\" class=\"row_heading level0 row1\" >1</th>\n                        <td id=\"T_829945a6_d94b_11eb_a169_a0cec835c16drow1_col0\" class=\"data row1 col0\" >trg_fc128_lr0.005_frozen.txt</td>\n                        <td id=\"T_829945a6_d94b_11eb_a169_a0cec835c16drow1_col1\" class=\"data row1 col1\" >0.728 ± 0.01</td>\n                        <td id=\"T_829945a6_d94b_11eb_a169_a0cec835c16drow1_col2\" class=\"data row1 col2\" >0.746 ± 0.01</td>\n                        <td id=\"T_829945a6_d94b_11eb_a169_a0cec835c16drow1_col3\" class=\"data row1 col3\" >0.722 ± 0.01</td>\n                        <td id=\"T_829945a6_d94b_11eb_a169_a0cec835c16drow1_col4\" class=\"data row1 col4\" >0.750 ± 0.01</td>\n            </tr>\n            <tr>\n                        <th id=\"T_829945a6_d94b_11eb_a169_a0cec835c16dlevel0_row2\" class=\"row_heading level0 row2\" >2</th>\n                        <td id=\"T_829945a6_d94b_11eb_a169_a0cec835c16drow2_col0\" class=\"data row2 col0\" >trg_fc256_lr0.0005_frozen.txt</td>\n                        <td id=\"T_829945a6_d94b_11eb_a169_a0cec835c16drow2_col1\" class=\"data row2 col1\" >0.735 ± 0.01</td>\n                        <td id=\"T_829945a6_d94b_11eb_a169_a0cec835c16drow2_col2\" class=\"data row2 col2\" >0.759 ± 0.01</td>\n                        <td id=\"T_829945a6_d94b_11eb_a169_a0cec835c16drow2_col3\" class=\"data row2 col3\" >0.730 ± 0.01</td>\n                        <td id=\"T_829945a6_d94b_11eb_a169_a0cec835c16drow2_col4\" class=\"data row2 col4\" >0.758 ± 0.02</td>\n            </tr>\n            <tr>\n                        <th id=\"T_829945a6_d94b_11eb_a169_a0cec835c16dlevel0_row3\" class=\"row_heading level0 row3\" >3</th>\n                        <td id=\"T_829945a6_d94b_11eb_a169_a0cec835c16drow3_col0\" class=\"data row3 col0\" >trg_fc256_lr0.005_frozen.txt</td>\n                        <td id=\"T_829945a6_d94b_11eb_a169_a0cec835c16drow3_col1\" class=\"data row3 col1\" >0.727 ± 0.02</td>\n                        <td id=\"T_829945a6_d94b_11eb_a169_a0cec835c16drow3_col2\" class=\"data row3 col2\" >0.750 ± 0.01</td>\n                        <td id=\"T_829945a6_d94b_11eb_a169_a0cec835c16drow3_col3\" class=\"data row3 col3\" >0.737 ± 0.01</td>\n                        <td id=\"T_829945a6_d94b_11eb_a169_a0cec835c16drow3_col4\" class=\"data row3 col4\" >0.747 ± 0.01</td>\n            </tr>\n            <tr>\n                        <th id=\"T_829945a6_d94b_11eb_a169_a0cec835c16dlevel0_row4\" class=\"row_heading level0 row4\" >4</th>\n                        <td id=\"T_829945a6_d94b_11eb_a169_a0cec835c16drow4_col0\" class=\"data row4 col0\" >trg_fc512_lr0.0005_frozen.txt</td>\n                        <td id=\"T_829945a6_d94b_11eb_a169_a0cec835c16drow4_col1\" class=\"data row4 col1\" >0.737 ± 0.01</td>\n                        <td id=\"T_829945a6_d94b_11eb_a169_a0cec835c16drow4_col2\" class=\"data row4 col2\" >0.762 ± 0.01</td>\n                        <td id=\"T_829945a6_d94b_11eb_a169_a0cec835c16drow4_col3\" class=\"data row4 col3\" >0.737 ± 0.01</td>\n                        <td id=\"T_829945a6_d94b_11eb_a169_a0cec835c16drow4_col4\" class=\"data row4 col4\" >0.759 ± 0.01</td>\n            </tr>\n            <tr>\n                        <th id=\"T_829945a6_d94b_11eb_a169_a0cec835c16dlevel0_row5\" class=\"row_heading level0 row5\" >5</th>\n                        <td id=\"T_829945a6_d94b_11eb_a169_a0cec835c16drow5_col0\" class=\"data row5 col0\" >trg_fc512_lr0.005_frozen.txt</td>\n                        <td id=\"T_829945a6_d94b_11eb_a169_a0cec835c16drow5_col1\" class=\"data row5 col1\" >0.727 ± 0.02</td>\n                        <td id=\"T_829945a6_d94b_11eb_a169_a0cec835c16drow5_col2\" class=\"data row5 col2\" >0.745 ± 0.01</td>\n                        <td id=\"T_829945a6_d94b_11eb_a169_a0cec835c16drow5_col3\" class=\"data row5 col3\" >0.729 ± 0.01</td>\n                        <td id=\"T_829945a6_d94b_11eb_a169_a0cec835c16drow5_col4\" class=\"data row5 col4\" >0.748 ± 0.00</td>\n            </tr>\n    </tbody></table>"
     },
     "execution_count": 13,
     "metadata": {},
     "output_type": "execute_result"
    }
   ],
   "source": [
    "cv_results_dict = {}\n",
    "for setup in SETUPS:\n",
    "    for model_name in MODEL_NAMES:\n",
    "        cv_results_dict[setup, model_name] = [\n",
    "            create_results_df(os.path.join(CV_LOG_HOME_DIR, f'cv_{fold}_{setup}', model_name)) for fold in FOLDS\n",
    "        ]\n",
    "\n",
    "log_filenames = cv_results_dict[SETUPS[0], MODEL_NAMES[0]][0]['log_filename'].to_list()\n",
    "table_dict = {'log_filename': log_filenames}\n",
    "table_dict.update({k: [] for k in cv_results_dict})\n",
    "for (setup, model_name), li in cv_results_dict.items():\n",
    "    # sanity check\n",
    "    for df in li:\n",
    "        assert log_filenames == df['log_filename'].to_list()\n",
    "    for idx, log_filename in enumerate(log_filenames):\n",
    "        f1_mean = np.mean([df['f1'][idx] for df in li])\n",
    "        f1_std = np.std([df['f1'][idx] for df in li])\n",
    "        table_dict[setup, model_name].append(f'{f1_mean:0.3f} ± {f1_std:0.2f}')\n",
    "pd.DataFrame(table_dict).style.apply(\n",
    "    lambda x: [\n",
    "        'background: blue' if \"±\" in v and float(v.split()[0]) == max([float(value.split()[0]) for value in x]) else ''\n",
    "        for v in x], axis=0)"
   ],
   "metadata": {
    "collapsed": false,
    "pycharm": {
     "name": "#%%\n"
    }
   }
  },
  {
   "cell_type": "code",
   "execution_count": 14,
   "outputs": [],
   "source": [
    "pd.DataFrame(table_dict).to_clipboard()"
   ],
   "metadata": {
    "collapsed": false,
    "pycharm": {
     "name": "#%%\n"
    }
   }
  },
  {
   "cell_type": "code",
   "execution_count": null,
   "outputs": [],
   "source": [],
   "metadata": {
    "collapsed": false,
    "pycharm": {
     "name": "#%%\n"
    }
   }
  }
 ],
 "metadata": {
  "kernelspec": {
   "display_name": "Python 3",
   "language": "python",
   "name": "python3"
  },
  "language_info": {
   "codemirror_mode": {
    "name": "ipython",
    "version": 2
   },
   "file_extension": ".py",
   "mimetype": "text/x-python",
   "name": "python",
   "nbconvert_exporter": "python",
   "pygments_lexer": "ipython2",
   "version": "2.7.6"
  }
 },
 "nbformat": 4,
 "nbformat_minor": 0
}