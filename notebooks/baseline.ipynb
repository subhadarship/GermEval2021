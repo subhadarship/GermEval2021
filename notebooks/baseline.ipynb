{
 "cells": [
  {
   "cell_type": "markdown",
   "source": [
    "# Baseline"
   ],
   "metadata": {
    "collapsed": false,
    "pycharm": {
     "name": "#%% md\n"
    }
   }
  },
  {
   "cell_type": "code",
   "execution_count": 1,
   "metadata": {
    "collapsed": true
   },
   "outputs": [],
   "source": [
    "import os\n",
    "from typing import Any, Dict\n",
    "\n",
    "import nltk\n",
    "import pandas as pd\n",
    "from sklearn.feature_extraction.text import TfidfVectorizer\n",
    "from sklearn.linear_model import LogisticRegression\n",
    "from sklearn.metrics import f1_score"
   ]
  },
  {
   "cell_type": "markdown",
   "source": [
    "## Utilities"
   ],
   "metadata": {
    "collapsed": false,
    "pycharm": {
     "name": "#%% md\n"
    }
   }
  },
  {
   "cell_type": "code",
   "execution_count": 2,
   "outputs": [],
   "source": [
    "def train_validate_test_logistic_regression_model(train_dict: Dict[str, Any],\n",
    "                                                  dev_dict: Dict[str, Any],\n",
    "                                                  C: float, random_seed: int) -> Dict[str, float]:\n",
    "    \"\"\"Train and validate logistic regression model with tfidf word features\"\"\"\n",
    "\n",
    "    # define tfidf vectorizer\n",
    "    vectorizer = TfidfVectorizer(\n",
    "        max_features=None,\n",
    "        encoding='utf-8',\n",
    "        tokenizer=nltk.word_tokenize,\n",
    "        ngram_range=(1, 1),\n",
    "    )\n",
    "\n",
    "    # fit vectorizer\n",
    "    vectorizer.fit(train_dict['text'])\n",
    "\n",
    "    train_X = vectorizer.transform(train_dict['text'])\n",
    "    dev_X = vectorizer.transform(dev_dict['text'])\n",
    "\n",
    "    # Define Logistic Regression model\n",
    "    model = LogisticRegression(\n",
    "        solver='liblinear',\n",
    "        random_state=random_seed,\n",
    "        verbose=False,\n",
    "        C=C,\n",
    "    )\n",
    "    # Fit the model to training data\n",
    "    model.fit(\n",
    "        train_X,\n",
    "        train_dict['labels']\n",
    "    )\n",
    "\n",
    "    # make prediction using the trained model\n",
    "    train_pred = model.predict(train_X)\n",
    "    dev_pred = model.predict(dev_X)\n",
    "\n",
    "    # compute F1 scores\n",
    "    train_f1 = f1_score(y_pred=train_pred, y_true=train_dict['labels'], average='macro', labels=['0', '1'])\n",
    "    dev_f1 = f1_score(y_pred=dev_pred, y_true=dev_dict['labels'], average='macro', labels=['0', '1'])\n",
    "\n",
    "    return {\n",
    "        'train_f1': train_f1,\n",
    "        'dev_f1': dev_f1,\n",
    "    }\n",
    "\n",
    "\n",
    "def pick_best_dev_score(scores_dict: Dict[float, Dict[str, float]]) -> Dict[str, float]:\n",
    "    best_val = {'dev_f1': -1}\n",
    "    for k, val in scores_dict.items():\n",
    "        if val['dev_f1'] > best_val['dev_f1']:\n",
    "            best_val = val\n",
    "    return best_val"
   ],
   "metadata": {
    "collapsed": false,
    "pycharm": {
     "name": "#%%\n"
    }
   }
  },
  {
   "cell_type": "markdown",
   "source": [
    "## Load data"
   ],
   "metadata": {
    "collapsed": false,
    "pycharm": {
     "name": "#%% md\n"
    }
   }
  },
  {
   "cell_type": "code",
   "execution_count": 3,
   "outputs": [],
   "source": [
    "DATA_DIR = os.path.join('../data/GermEval21_Toxic_Train')\n",
    "assert os.path.isdir(DATA_DIR)\n",
    "train_df = pd.read_csv(os.path.join(DATA_DIR, 'train.csv'), encoding='utf-8', sep=',')\n",
    "dev_df = pd.read_csv(os.path.join(DATA_DIR, 'dev.csv'), encoding='utf-8', sep=',')\n",
    "\n",
    "train_di = {\n",
    "    'text': train_df['comment_text'],\n",
    "    'labels': train_df['Sub3_FactClaiming'].astype(str),\n",
    "}\n",
    "dev_di = {\n",
    "    'text': dev_df['comment_text'],\n",
    "    'labels': dev_df['Sub3_FactClaiming'].astype(str),\n",
    "}"
   ],
   "metadata": {
    "collapsed": false,
    "pycharm": {
     "name": "#%%\n"
    }
   }
  },
  {
   "cell_type": "markdown",
   "source": [
    "## Train and evaluate"
   ],
   "metadata": {
    "collapsed": false,
    "pycharm": {
     "name": "#%% md\n"
    }
   }
  },
  {
   "cell_type": "code",
   "execution_count": 4,
   "outputs": [
    {
     "name": "stderr",
     "output_type": "stream",
     "text": [
      "C:\\Users\\subhadarshi\\AppData\\Local\\Continuum\\anaconda2\\envs\\multiindic\\lib\\site-packages\\sklearn\\feature_extraction\\text.py:489: UserWarning: The parameter 'token_pattern' will not be used since 'tokenizer' is not None'\n",
      "  warnings.warn(\"The parameter 'token_pattern' will not be used\"\n",
      "C:\\Users\\subhadarshi\\AppData\\Local\\Continuum\\anaconda2\\envs\\multiindic\\lib\\site-packages\\sklearn\\feature_extraction\\text.py:489: UserWarning: The parameter 'token_pattern' will not be used since 'tokenizer' is not None'\n",
      "  warnings.warn(\"The parameter 'token_pattern' will not be used\"\n",
      "C:\\Users\\subhadarshi\\AppData\\Local\\Continuum\\anaconda2\\envs\\multiindic\\lib\\site-packages\\sklearn\\feature_extraction\\text.py:489: UserWarning: The parameter 'token_pattern' will not be used since 'tokenizer' is not None'\n",
      "  warnings.warn(\"The parameter 'token_pattern' will not be used\"\n",
      "C:\\Users\\subhadarshi\\AppData\\Local\\Continuum\\anaconda2\\envs\\multiindic\\lib\\site-packages\\sklearn\\feature_extraction\\text.py:489: UserWarning: The parameter 'token_pattern' will not be used since 'tokenizer' is not None'\n",
      "  warnings.warn(\"The parameter 'token_pattern' will not be used\"\n",
      "C:\\Users\\subhadarshi\\AppData\\Local\\Continuum\\anaconda2\\envs\\multiindic\\lib\\site-packages\\sklearn\\feature_extraction\\text.py:489: UserWarning: The parameter 'token_pattern' will not be used since 'tokenizer' is not None'\n",
      "  warnings.warn(\"The parameter 'token_pattern' will not be used\"\n"
     ]
    }
   ],
   "source": [
    "scores_dict = {}\n",
    "for c in [1.0, 2.0, 3.0, 4.0, 5.0]:\n",
    "    scores_dict[c] = train_validate_test_logistic_regression_model(\n",
    "        train_dict=train_di,\n",
    "        dev_dict=dev_di,\n",
    "        C=c,\n",
    "        random_seed=123,\n",
    "    )"
   ],
   "metadata": {
    "collapsed": false,
    "pycharm": {
     "name": "#%%\n"
    }
   }
  },
  {
   "cell_type": "code",
   "execution_count": 5,
   "outputs": [
    {
     "data": {
      "text/plain": "{1.0: {'train_f1': 0.7965483264649844, 'dev_f1': 0.6945666752947266},\n 2.0: {'train_f1': 0.8710244063146564, 'dev_f1': 0.7032396716888818},\n 3.0: {'train_f1': 0.918281801734961, 'dev_f1': 0.7041393143690737},\n 4.0: {'train_f1': 0.944626334665374, 'dev_f1': 0.7064309184791112},\n 5.0: {'train_f1': 0.9614401616689945, 'dev_f1': 0.7095785657641327}}"
     },
     "execution_count": 5,
     "metadata": {},
     "output_type": "execute_result"
    }
   ],
   "source": [
    "scores_dict"
   ],
   "metadata": {
    "collapsed": false,
    "pycharm": {
     "name": "#%%\n"
    }
   }
  },
  {
   "cell_type": "code",
   "execution_count": 6,
   "outputs": [
    {
     "data": {
      "text/plain": "{'train_f1': 0.9614401616689945, 'dev_f1': 0.7095785657641327}"
     },
     "execution_count": 6,
     "metadata": {},
     "output_type": "execute_result"
    }
   ],
   "source": [
    "pick_best_dev_score(scores_dict)"
   ],
   "metadata": {
    "collapsed": false,
    "pycharm": {
     "name": "#%%\n"
    }
   }
  },
  {
   "cell_type": "code",
   "execution_count": 6,
   "outputs": [],
   "source": [],
   "metadata": {
    "collapsed": false,
    "pycharm": {
     "name": "#%%\n"
    }
   }
  }
 ],
 "metadata": {
  "kernelspec": {
   "display_name": "Python 3",
   "language": "python",
   "name": "python3"
  },
  "language_info": {
   "codemirror_mode": {
    "name": "ipython",
    "version": 2
   },
   "file_extension": ".py",
   "mimetype": "text/x-python",
   "name": "python",
   "nbconvert_exporter": "python",
   "pygments_lexer": "ipython2",
   "version": "2.7.6"
  }
 },
 "nbformat": 4,
 "nbformat_minor": 0
}