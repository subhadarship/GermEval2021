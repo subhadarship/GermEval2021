{
 "cells": [
  {
   "cell_type": "markdown",
   "source": [
    "# Data"
   ],
   "metadata": {
    "collapsed": false,
    "pycharm": {
     "name": "#%% md\n"
    }
   }
  },
  {
   "cell_type": "code",
   "execution_count": 1,
   "metadata": {
    "collapsed": true
   },
   "outputs": [],
   "source": [
    "import os\n",
    "\n",
    "import pandas as pd"
   ]
  },
  {
   "cell_type": "code",
   "source": [
    "TRAIN_DATA_DIR = os.path.join('../data/GermEval21_Toxic_Train')\n",
    "TEST_DATA_DIR = os.path.join('../data/GermEval21_Toxic_Test')\n",
    "CROSS_VALIDATION_DATA_DIR = os.path.join('../data/cross_validation')\n",
    "assert os.path.isdir(TRAIN_DATA_DIR)\n",
    "assert os.path.isdir(TEST_DATA_DIR)\n",
    "assert os.path.isdir(CROSS_VALIDATION_DATA_DIR)"
   ],
   "metadata": {
    "collapsed": false,
    "pycharm": {
     "name": "#%%\n"
    }
   },
   "execution_count": 2,
   "outputs": []
  },
  {
   "cell_type": "markdown",
   "source": [
    "## Raw data"
   ],
   "metadata": {
    "collapsed": false,
    "pycharm": {
     "name": "#%% md\n"
    }
   }
  },
  {
   "cell_type": "code",
   "execution_count": 3,
   "outputs": [],
   "source": [
    "raw_data_fpath = os.path.join(TRAIN_DATA_DIR, 'GermEval21_Toxic_Train.csv')\n",
    "assert os.path.isfile(raw_data_fpath)"
   ],
   "metadata": {
    "collapsed": false,
    "pycharm": {
     "name": "#%%\n"
    }
   }
  },
  {
   "cell_type": "code",
   "execution_count": 4,
   "outputs": [],
   "source": [
    "raw_data_df = pd.read_csv(raw_data_fpath, encoding='utf-8', sep=',')"
   ],
   "metadata": {
    "collapsed": false,
    "pycharm": {
     "name": "#%%\n"
    }
   }
  },
  {
   "cell_type": "code",
   "execution_count": 5,
   "outputs": [
    {
     "data": {
      "text/plain": "Index(['comment_id', 'comment_text', 'Sub1_Toxic', 'Sub2_Engaging',\n       'Sub3_FactClaiming'],\n      dtype='object')"
     },
     "execution_count": 5,
     "metadata": {},
     "output_type": "execute_result"
    }
   ],
   "source": [
    "raw_data_df.columns"
   ],
   "metadata": {
    "collapsed": false,
    "pycharm": {
     "name": "#%%\n"
    }
   }
  },
  {
   "cell_type": "code",
   "execution_count": 6,
   "outputs": [
    {
     "name": "stdout",
     "output_type": "stream",
     "text": [
      "Sub1_Toxic : {0: 2122, 1: 1122}\n",
      "Sub2_Engaging : {0: 2379, 1: 865}\n",
      "Sub3_FactClaiming : {0: 2141, 1: 1103}\n"
     ]
    }
   ],
   "source": [
    "for col_name in raw_data_df.columns:\n",
    "    if col_name.startswith('comment'):\n",
    "        continue\n",
    "    print(col_name, ':', raw_data_df[col_name].value_counts().to_dict())"
   ],
   "metadata": {
    "collapsed": false,
    "pycharm": {
     "name": "#%%\n"
    }
   }
  },
  {
   "cell_type": "code",
   "execution_count": 7,
   "outputs": [
    {
     "name": "stdout",
     "output_type": "stream",
     "text": [
      "total number of raw samples: 3244\n"
     ]
    }
   ],
   "source": [
    "print('total number of raw samples:', len(raw_data_df))"
   ],
   "metadata": {
    "collapsed": false,
    "pycharm": {
     "name": "#%%\n"
    }
   }
  },
  {
   "cell_type": "code",
   "execution_count": 8,
   "outputs": [
    {
     "name": "stdout",
     "output_type": "stream",
     "text": [
      "{'000': 1074, '100': 739, '001': 406, '011': 403, '010': 239, '101': 160, '111': 134, '110': 89}\n"
     ]
    }
   ],
   "source": [
    "label_col_names = ['Sub1_Toxic', 'Sub2_Engaging', 'Sub3_FactClaiming']\n",
    "print(raw_data_df.apply(lambda x: ''.join([f'{x[label_col_name]}' for label_col_name in label_col_names]),\n",
    "                        axis=1).value_counts().to_dict())"
   ],
   "metadata": {
    "collapsed": false,
    "pycharm": {
     "name": "#%%\n"
    }
   }
  },
  {
   "cell_type": "markdown",
   "source": [
    "## Prepared data (train and dev splits)\n"
   ],
   "metadata": {
    "collapsed": false,
    "pycharm": {
     "name": "#%% md\n"
    }
   }
  },
  {
   "cell_type": "code",
   "execution_count": 9,
   "outputs": [
    {
     "name": "stdout",
     "output_type": "stream",
     "text": [
      "\n",
      "*** train ***\n",
      "Sub1_Toxic : {0: 1690, 1: 905}\n",
      "Sub2_Engaging : {0: 1909, 1: 686}\n",
      "Sub3_FactClaiming : {0: 1713, 1: 882}\n",
      "total number of train samples: 2595\n",
      "\n",
      "*** dev ***\n",
      "Sub1_Toxic : {0: 432, 1: 217}\n",
      "Sub2_Engaging : {0: 470, 1: 179}\n",
      "Sub3_FactClaiming : {0: 428, 1: 221}\n",
      "total number of dev samples: 649\n"
     ]
    }
   ],
   "source": [
    "for split_name in ['train', 'dev']:\n",
    "    print(f'\\n*** {split_name} ***')\n",
    "    data_fpath = os.path.join(TRAIN_DATA_DIR, f'{split_name}.csv')\n",
    "    assert os.path.isfile(data_fpath)\n",
    "    data_df = pd.read_csv(data_fpath, encoding='utf-8', sep=',')\n",
    "    for col_name in data_df.columns:\n",
    "        if col_name.startswith('comment'):\n",
    "            continue\n",
    "        print(col_name, ':', data_df[col_name].value_counts().to_dict())\n",
    "\n",
    "    print(f'total number of {split_name} samples:', len(data_df))"
   ],
   "metadata": {
    "collapsed": false,
    "pycharm": {
     "name": "#%%\n"
    }
   }
  },
  {
   "cell_type": "markdown",
   "source": [
    "## Test data"
   ],
   "metadata": {
    "collapsed": false,
    "pycharm": {
     "name": "#%% md\n"
    }
   }
  },
  {
   "cell_type": "code",
   "execution_count": 10,
   "outputs": [
    {
     "name": "stdout",
     "output_type": "stream",
     "text": [
      "No. of test samples: 944\n"
     ]
    }
   ],
   "source": [
    "test_data_df = pd.read_csv(os.path.join(TEST_DATA_DIR, 'test.csv'), encoding='utf-8')\n",
    "print(f'No. of test samples: {len(test_data_df)}')"
   ],
   "metadata": {
    "collapsed": false,
    "pycharm": {
     "name": "#%%\n"
    }
   }
  },
  {
   "cell_type": "code",
   "source": [
    "test_labels_df = pd.read_csv(os.path.join(TEST_DATA_DIR, 'truth.csv'), encoding='utf-8')\n",
    "for col_name in test_labels_df.columns:\n",
    "    if col_name.startswith('comment'):\n",
    "        continue\n",
    "    print(col_name, ':', test_labels_df[col_name].value_counts().to_dict())\n"
   ],
   "metadata": {
    "collapsed": false,
    "pycharm": {
     "name": "#%%\n"
    }
   },
   "execution_count": 11,
   "outputs": [
    {
     "name": "stdout",
     "output_type": "stream",
     "text": [
      "Sub1_Toxic : {0: 594, 1: 350}\n",
      "Sub2_Engaging : {0: 691, 1: 253}\n",
      "Sub3_FactClaiming : {0: 630, 1: 314}\n"
     ]
    }
   ]
  },
  {
   "cell_type": "markdown",
   "source": [
    "## Cross validation data"
   ],
   "metadata": {
    "collapsed": false,
    "pycharm": {
     "name": "#%% md\n"
    }
   }
  },
  {
   "cell_type": "code",
   "execution_count": 12,
   "outputs": [
    {
     "name": "stdout",
     "output_type": "stream",
     "text": [
      "\n",
      "*** fold_A train ***\n",
      "Sub1_Toxic : {0: 1690, 1: 905}\n",
      "Sub2_Engaging : {0: 1909, 1: 686}\n",
      "Sub3_FactClaiming : {0: 1713, 1: 882}\n",
      "total number of train samples: 2595\n",
      "\n",
      "*** fold_A dev ***\n",
      "Sub1_Toxic : {0: 432, 1: 217}\n",
      "Sub2_Engaging : {0: 470, 1: 179}\n",
      "Sub3_FactClaiming : {0: 428, 1: 221}\n",
      "total number of dev samples: 649\n",
      "\n",
      "*** fold_B train ***\n",
      "Sub1_Toxic : {0: 1689, 1: 907}\n",
      "Sub2_Engaging : {0: 1910, 1: 686}\n",
      "Sub3_FactClaiming : {0: 1713, 1: 883}\n",
      "total number of train samples: 2596\n",
      "\n",
      "*** fold_B dev ***\n",
      "Sub1_Toxic : {0: 433, 1: 215}\n",
      "Sub2_Engaging : {0: 469, 1: 179}\n",
      "Sub3_FactClaiming : {0: 428, 1: 220}\n",
      "total number of dev samples: 648\n",
      "\n",
      "*** fold_C train ***\n",
      "Sub1_Toxic : {0: 1716, 1: 879}\n",
      "Sub2_Engaging : {0: 1902, 1: 693}\n",
      "Sub3_FactClaiming : {0: 1713, 1: 882}\n",
      "total number of train samples: 2595\n",
      "\n",
      "*** fold_C dev ***\n",
      "Sub1_Toxic : {0: 406, 1: 243}\n",
      "Sub2_Engaging : {0: 477, 1: 172}\n",
      "Sub3_FactClaiming : {0: 428, 1: 221}\n",
      "total number of dev samples: 649\n",
      "\n",
      "*** fold_D train ***\n",
      "Sub1_Toxic : {0: 1686, 1: 909}\n",
      "Sub2_Engaging : {0: 1890, 1: 705}\n",
      "Sub3_FactClaiming : {0: 1713, 1: 882}\n",
      "total number of train samples: 2595\n",
      "\n",
      "*** fold_D dev ***\n",
      "Sub1_Toxic : {0: 436, 1: 213}\n",
      "Sub2_Engaging : {0: 489, 1: 160}\n",
      "Sub3_FactClaiming : {0: 428, 1: 221}\n",
      "total number of dev samples: 649\n",
      "\n",
      "*** fold_E train ***\n",
      "Sub1_Toxic : {0: 1707, 1: 888}\n",
      "Sub2_Engaging : {0: 1905, 1: 690}\n",
      "Sub3_FactClaiming : {0: 1712, 1: 883}\n",
      "total number of train samples: 2595\n",
      "\n",
      "*** fold_E dev ***\n",
      "Sub1_Toxic : {0: 415, 1: 234}\n",
      "Sub2_Engaging : {0: 474, 1: 175}\n",
      "Sub3_FactClaiming : {0: 429, 1: 220}\n",
      "total number of dev samples: 649\n"
     ]
    }
   ],
   "source": [
    "for fold_name in ['fold_A', 'fold_B', 'fold_C', 'fold_D', 'fold_E']:\n",
    "    for split_name in ['train', 'dev']:\n",
    "        print(f'\\n*** {fold_name} {split_name} ***')\n",
    "        data_fpath = os.path.join(CROSS_VALIDATION_DATA_DIR, fold_name, f'{split_name}.csv')\n",
    "        assert os.path.isfile(data_fpath)\n",
    "        data_df = pd.read_csv(data_fpath, encoding='utf-8', sep=',')\n",
    "        for col_name in data_df.columns:\n",
    "            if col_name.startswith('comment'):\n",
    "                continue\n",
    "            print(col_name, ':', data_df[col_name].value_counts().to_dict())\n",
    "\n",
    "        print(f'total number of {split_name} samples:', len(data_df))\n",
    "\n"
   ],
   "metadata": {
    "collapsed": false,
    "pycharm": {
     "name": "#%%\n"
    }
   }
  }
 ],
 "metadata": {
  "kernelspec": {
   "display_name": "Python 3",
   "language": "python",
   "name": "python3"
  },
  "language_info": {
   "codemirror_mode": {
    "name": "ipython",
    "version": 2
   },
   "file_extension": ".py",
   "mimetype": "text/x-python",
   "name": "python",
   "nbconvert_exporter": "python",
   "pygments_lexer": "ipython2",
   "version": "2.7.6"
  }
 },
 "nbformat": 4,
 "nbformat_minor": 0
}